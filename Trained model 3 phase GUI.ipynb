{
 "cells": [
  {
   "cell_type": "code",
   "execution_count": 4,
   "id": "03357487",
   "metadata": {},
   "outputs": [
    {
     "name": "stdout",
     "output_type": "stream",
     "text": [
      "950/950 [==============================] - 1s 880us/step\n",
      "950/950 [==============================] - 1s 922us/step\n"
     ]
    },
    {
     "name": "stderr",
     "output_type": "stream",
     "text": [
      "Exception in Tkinter callback\n",
      "Traceback (most recent call last):\n",
      "  File \"C:\\Users\\hp\\anaconda3\\lib\\tkinter\\__init__.py\", line 1892, in __call__\n",
      "    return self.func(*args)\n",
      "  File \"C:\\Users\\hp\\AppData\\Local\\Temp\\ipykernel_19188\\224549698.py\", line 327, in predict_and_plot_radial\n",
      "    velocity = float(velocity_radial_var.get())\n",
      "ValueError: could not convert string to float: ''\n"
     ]
    },
    {
     "name": "stdout",
     "output_type": "stream",
     "text": [
      "1/1 [==============================] - 0s 63ms/step\n",
      "1/1 [==============================] - ETA: 0s"
     ]
    },
    {
     "name": "stderr",
     "output_type": "stream",
     "text": [
      "C:\\Users\\hp\\anaconda3\\lib\\site-packages\\sklearn\\base.py:450: UserWarning: X does not have valid feature names, but StandardScaler was fitted with feature names\n",
      "  warnings.warn(\n",
      "C:\\Users\\hp\\AppData\\Local\\Temp\\ipykernel_19188\\224549698.py:299: FutureWarning: The frame.append method is deprecated and will be removed from pandas in a future version. Use pandas.concat instead.\n",
      "  z_p = z_p.append(pre)\n",
      "C:\\Users\\hp\\anaconda3\\lib\\site-packages\\sklearn\\base.py:450: UserWarning: X does not have valid feature names, but StandardScaler was fitted with feature names\n",
      "  warnings.warn(\n"
     ]
    },
    {
     "name": "stdout",
     "output_type": "stream",
     "text": [
      "1/1 [==============================] - 0s 16ms/step\n",
      "1/1 [==============================] - 0s 16ms/step\n",
      "1/1 [==============================] - 0s 16ms/step\n"
     ]
    },
    {
     "name": "stderr",
     "output_type": "stream",
     "text": [
      "C:\\Users\\hp\\AppData\\Local\\Temp\\ipykernel_19188\\224549698.py:299: FutureWarning: The frame.append method is deprecated and will be removed from pandas in a future version. Use pandas.concat instead.\n",
      "  z_p = z_p.append(pre)\n",
      "C:\\Users\\hp\\anaconda3\\lib\\site-packages\\sklearn\\base.py:450: UserWarning: X does not have valid feature names, but StandardScaler was fitted with feature names\n",
      "  warnings.warn(\n",
      "C:\\Users\\hp\\AppData\\Local\\Temp\\ipykernel_19188\\224549698.py:299: FutureWarning: The frame.append method is deprecated and will be removed from pandas in a future version. Use pandas.concat instead.\n",
      "  z_p = z_p.append(pre)\n",
      "C:\\Users\\hp\\anaconda3\\lib\\site-packages\\sklearn\\base.py:450: UserWarning: X does not have valid feature names, but StandardScaler was fitted with feature names\n",
      "  warnings.warn(\n",
      "C:\\Users\\hp\\AppData\\Local\\Temp\\ipykernel_19188\\224549698.py:299: FutureWarning: The frame.append method is deprecated and will be removed from pandas in a future version. Use pandas.concat instead.\n",
      "  z_p = z_p.append(pre)\n",
      "C:\\Users\\hp\\anaconda3\\lib\\site-packages\\sklearn\\base.py:450: UserWarning: X does not have valid feature names, but StandardScaler was fitted with feature names\n",
      "  warnings.warn(\n"
     ]
    },
    {
     "name": "stdout",
     "output_type": "stream",
     "text": [
      "1/1 [==============================] - 0s 22ms/step\n",
      "1/1 [==============================] - 0s 18ms/step\n",
      "1/1 [==============================] - 0s 17ms/step\n"
     ]
    },
    {
     "name": "stderr",
     "output_type": "stream",
     "text": [
      "C:\\Users\\hp\\AppData\\Local\\Temp\\ipykernel_19188\\224549698.py:299: FutureWarning: The frame.append method is deprecated and will be removed from pandas in a future version. Use pandas.concat instead.\n",
      "  z_p = z_p.append(pre)\n",
      "C:\\Users\\hp\\anaconda3\\lib\\site-packages\\sklearn\\base.py:450: UserWarning: X does not have valid feature names, but StandardScaler was fitted with feature names\n",
      "  warnings.warn(\n",
      "C:\\Users\\hp\\AppData\\Local\\Temp\\ipykernel_19188\\224549698.py:299: FutureWarning: The frame.append method is deprecated and will be removed from pandas in a future version. Use pandas.concat instead.\n",
      "  z_p = z_p.append(pre)\n",
      "C:\\Users\\hp\\anaconda3\\lib\\site-packages\\sklearn\\base.py:450: UserWarning: X does not have valid feature names, but StandardScaler was fitted with feature names\n",
      "  warnings.warn(\n",
      "C:\\Users\\hp\\AppData\\Local\\Temp\\ipykernel_19188\\224549698.py:299: FutureWarning: The frame.append method is deprecated and will be removed from pandas in a future version. Use pandas.concat instead.\n",
      "  z_p = z_p.append(pre)\n",
      "C:\\Users\\hp\\anaconda3\\lib\\site-packages\\sklearn\\base.py:450: UserWarning: X does not have valid feature names, but StandardScaler was fitted with feature names\n",
      "  warnings.warn(\n"
     ]
    },
    {
     "name": "stdout",
     "output_type": "stream",
     "text": [
      "1/1 [==============================] - 0s 20ms/step\n",
      "1/1 [==============================] - 0s 16ms/step\n",
      "1/1 [==============================] - 0s 16ms/step\n"
     ]
    },
    {
     "name": "stderr",
     "output_type": "stream",
     "text": [
      "C:\\Users\\hp\\AppData\\Local\\Temp\\ipykernel_19188\\224549698.py:299: FutureWarning: The frame.append method is deprecated and will be removed from pandas in a future version. Use pandas.concat instead.\n",
      "  z_p = z_p.append(pre)\n",
      "C:\\Users\\hp\\anaconda3\\lib\\site-packages\\sklearn\\base.py:450: UserWarning: X does not have valid feature names, but StandardScaler was fitted with feature names\n",
      "  warnings.warn(\n",
      "C:\\Users\\hp\\AppData\\Local\\Temp\\ipykernel_19188\\224549698.py:299: FutureWarning: The frame.append method is deprecated and will be removed from pandas in a future version. Use pandas.concat instead.\n",
      "  z_p = z_p.append(pre)\n",
      "C:\\Users\\hp\\anaconda3\\lib\\site-packages\\sklearn\\base.py:450: UserWarning: X does not have valid feature names, but StandardScaler was fitted with feature names\n",
      "  warnings.warn(\n",
      "C:\\Users\\hp\\AppData\\Local\\Temp\\ipykernel_19188\\224549698.py:299: FutureWarning: The frame.append method is deprecated and will be removed from pandas in a future version. Use pandas.concat instead.\n",
      "  z_p = z_p.append(pre)\n",
      "C:\\Users\\hp\\anaconda3\\lib\\site-packages\\sklearn\\base.py:450: UserWarning: X does not have valid feature names, but StandardScaler was fitted with feature names\n",
      "  warnings.warn(\n"
     ]
    },
    {
     "name": "stdout",
     "output_type": "stream",
     "text": [
      "1/1 [==============================] - 0s 20ms/step\n",
      "1/1 [==============================] - 0s 16ms/step\n",
      "1/1 [==============================] - 0s 16ms/step\n",
      "1/1 [==============================] - ETA: 0s"
     ]
    },
    {
     "name": "stderr",
     "output_type": "stream",
     "text": [
      "C:\\Users\\hp\\AppData\\Local\\Temp\\ipykernel_19188\\224549698.py:299: FutureWarning: The frame.append method is deprecated and will be removed from pandas in a future version. Use pandas.concat instead.\n",
      "  z_p = z_p.append(pre)\n",
      "C:\\Users\\hp\\anaconda3\\lib\\site-packages\\sklearn\\base.py:450: UserWarning: X does not have valid feature names, but StandardScaler was fitted with feature names\n",
      "  warnings.warn(\n",
      "C:\\Users\\hp\\AppData\\Local\\Temp\\ipykernel_19188\\224549698.py:299: FutureWarning: The frame.append method is deprecated and will be removed from pandas in a future version. Use pandas.concat instead.\n",
      "  z_p = z_p.append(pre)\n",
      "C:\\Users\\hp\\anaconda3\\lib\\site-packages\\sklearn\\base.py:450: UserWarning: X does not have valid feature names, but StandardScaler was fitted with feature names\n",
      "  warnings.warn(\n",
      "C:\\Users\\hp\\AppData\\Local\\Temp\\ipykernel_19188\\224549698.py:299: FutureWarning: The frame.append method is deprecated and will be removed from pandas in a future version. Use pandas.concat instead.\n",
      "  z_p = z_p.append(pre)\n",
      "C:\\Users\\hp\\anaconda3\\lib\\site-packages\\sklearn\\base.py:450: UserWarning: X does not have valid feature names, but StandardScaler was fitted with feature names\n",
      "  warnings.warn(\n"
     ]
    },
    {
     "name": "stdout",
     "output_type": "stream",
     "text": [
      "1/1 [==============================] - 0s 16ms/step\n",
      "1/1 [==============================] - 0s 16ms/step\n",
      "1/1 [==============================] - 0s 20ms/step\n"
     ]
    },
    {
     "name": "stderr",
     "output_type": "stream",
     "text": [
      "C:\\Users\\hp\\AppData\\Local\\Temp\\ipykernel_19188\\224549698.py:299: FutureWarning: The frame.append method is deprecated and will be removed from pandas in a future version. Use pandas.concat instead.\n",
      "  z_p = z_p.append(pre)\n",
      "C:\\Users\\hp\\anaconda3\\lib\\site-packages\\sklearn\\base.py:450: UserWarning: X does not have valid feature names, but StandardScaler was fitted with feature names\n",
      "  warnings.warn(\n",
      "C:\\Users\\hp\\AppData\\Local\\Temp\\ipykernel_19188\\224549698.py:299: FutureWarning: The frame.append method is deprecated and will be removed from pandas in a future version. Use pandas.concat instead.\n",
      "  z_p = z_p.append(pre)\n",
      "C:\\Users\\hp\\anaconda3\\lib\\site-packages\\sklearn\\base.py:450: UserWarning: X does not have valid feature names, but StandardScaler was fitted with feature names\n",
      "  warnings.warn(\n",
      "C:\\Users\\hp\\AppData\\Local\\Temp\\ipykernel_19188\\224549698.py:299: FutureWarning: The frame.append method is deprecated and will be removed from pandas in a future version. Use pandas.concat instead.\n",
      "  z_p = z_p.append(pre)\n",
      "C:\\Users\\hp\\anaconda3\\lib\\site-packages\\sklearn\\base.py:450: UserWarning: X does not have valid feature names, but StandardScaler was fitted with feature names\n",
      "  warnings.warn(\n"
     ]
    },
    {
     "name": "stdout",
     "output_type": "stream",
     "text": [
      "1/1 [==============================] - 0s 22ms/step\n",
      "1/1 [==============================] - 0s 16ms/step\n",
      "1/1 [==============================] - 0s 4ms/step\n",
      "1/1 [==============================] - ETA: 0s"
     ]
    },
    {
     "name": "stderr",
     "output_type": "stream",
     "text": [
      "C:\\Users\\hp\\AppData\\Local\\Temp\\ipykernel_19188\\224549698.py:299: FutureWarning: The frame.append method is deprecated and will be removed from pandas in a future version. Use pandas.concat instead.\n",
      "  z_p = z_p.append(pre)\n",
      "C:\\Users\\hp\\anaconda3\\lib\\site-packages\\sklearn\\base.py:450: UserWarning: X does not have valid feature names, but StandardScaler was fitted with feature names\n",
      "  warnings.warn(\n",
      "C:\\Users\\hp\\AppData\\Local\\Temp\\ipykernel_19188\\224549698.py:299: FutureWarning: The frame.append method is deprecated and will be removed from pandas in a future version. Use pandas.concat instead.\n",
      "  z_p = z_p.append(pre)\n",
      "C:\\Users\\hp\\anaconda3\\lib\\site-packages\\sklearn\\base.py:450: UserWarning: X does not have valid feature names, but StandardScaler was fitted with feature names\n",
      "  warnings.warn(\n",
      "C:\\Users\\hp\\AppData\\Local\\Temp\\ipykernel_19188\\224549698.py:299: FutureWarning: The frame.append method is deprecated and will be removed from pandas in a future version. Use pandas.concat instead.\n",
      "  z_p = z_p.append(pre)\n",
      "C:\\Users\\hp\\anaconda3\\lib\\site-packages\\sklearn\\base.py:450: UserWarning: X does not have valid feature names, but StandardScaler was fitted with feature names\n",
      "  warnings.warn(\n"
     ]
    },
    {
     "name": "stdout",
     "output_type": "stream",
     "text": [
      "1/1 [==============================] - 0s 9ms/step\n",
      "1/1 [==============================] - 0s 12ms/step\n",
      "1/1 [==============================] - 0s 16ms/step\n"
     ]
    },
    {
     "name": "stderr",
     "output_type": "stream",
     "text": [
      "C:\\Users\\hp\\AppData\\Local\\Temp\\ipykernel_19188\\224549698.py:299: FutureWarning: The frame.append method is deprecated and will be removed from pandas in a future version. Use pandas.concat instead.\n",
      "  z_p = z_p.append(pre)\n",
      "C:\\Users\\hp\\anaconda3\\lib\\site-packages\\sklearn\\base.py:450: UserWarning: X does not have valid feature names, but StandardScaler was fitted with feature names\n",
      "  warnings.warn(\n",
      "C:\\Users\\hp\\AppData\\Local\\Temp\\ipykernel_19188\\224549698.py:299: FutureWarning: The frame.append method is deprecated and will be removed from pandas in a future version. Use pandas.concat instead.\n",
      "  z_p = z_p.append(pre)\n",
      "C:\\Users\\hp\\anaconda3\\lib\\site-packages\\sklearn\\base.py:450: UserWarning: X does not have valid feature names, but StandardScaler was fitted with feature names\n",
      "  warnings.warn(\n",
      "C:\\Users\\hp\\AppData\\Local\\Temp\\ipykernel_19188\\224549698.py:299: FutureWarning: The frame.append method is deprecated and will be removed from pandas in a future version. Use pandas.concat instead.\n",
      "  z_p = z_p.append(pre)\n",
      "C:\\Users\\hp\\anaconda3\\lib\\site-packages\\sklearn\\base.py:450: UserWarning: X does not have valid feature names, but StandardScaler was fitted with feature names\n",
      "  warnings.warn(\n"
     ]
    },
    {
     "name": "stdout",
     "output_type": "stream",
     "text": [
      "1/1 [==============================] - 0s 20ms/step\n",
      "1/1 [==============================] - 0s 4ms/step\n",
      "1/1 [==============================] - 0s 12ms/step\n",
      "1/1 [==============================] - ETA: 0s"
     ]
    },
    {
     "name": "stderr",
     "output_type": "stream",
     "text": [
      "C:\\Users\\hp\\AppData\\Local\\Temp\\ipykernel_19188\\224549698.py:299: FutureWarning: The frame.append method is deprecated and will be removed from pandas in a future version. Use pandas.concat instead.\n",
      "  z_p = z_p.append(pre)\n",
      "C:\\Users\\hp\\anaconda3\\lib\\site-packages\\sklearn\\base.py:450: UserWarning: X does not have valid feature names, but StandardScaler was fitted with feature names\n",
      "  warnings.warn(\n",
      "C:\\Users\\hp\\AppData\\Local\\Temp\\ipykernel_19188\\224549698.py:299: FutureWarning: The frame.append method is deprecated and will be removed from pandas in a future version. Use pandas.concat instead.\n",
      "  z_p = z_p.append(pre)\n",
      "C:\\Users\\hp\\anaconda3\\lib\\site-packages\\sklearn\\base.py:450: UserWarning: X does not have valid feature names, but StandardScaler was fitted with feature names\n",
      "  warnings.warn(\n",
      "C:\\Users\\hp\\AppData\\Local\\Temp\\ipykernel_19188\\224549698.py:299: FutureWarning: The frame.append method is deprecated and will be removed from pandas in a future version. Use pandas.concat instead.\n",
      "  z_p = z_p.append(pre)\n",
      "C:\\Users\\hp\\anaconda3\\lib\\site-packages\\sklearn\\base.py:450: UserWarning: X does not have valid feature names, but StandardScaler was fitted with feature names\n",
      "  warnings.warn(\n"
     ]
    },
    {
     "name": "stdout",
     "output_type": "stream",
     "text": [
      "1/1 [==============================] - 0s 4ms/step\n",
      "1/1 [==============================] - 0s 7ms/step\n",
      "1/1 [==============================] - 0s 16ms/step\n"
     ]
    },
    {
     "name": "stderr",
     "output_type": "stream",
     "text": [
      "C:\\Users\\hp\\AppData\\Local\\Temp\\ipykernel_19188\\224549698.py:299: FutureWarning: The frame.append method is deprecated and will be removed from pandas in a future version. Use pandas.concat instead.\n",
      "  z_p = z_p.append(pre)\n",
      "C:\\Users\\hp\\anaconda3\\lib\\site-packages\\sklearn\\base.py:450: UserWarning: X does not have valid feature names, but StandardScaler was fitted with feature names\n",
      "  warnings.warn(\n",
      "C:\\Users\\hp\\AppData\\Local\\Temp\\ipykernel_19188\\224549698.py:299: FutureWarning: The frame.append method is deprecated and will be removed from pandas in a future version. Use pandas.concat instead.\n",
      "  z_p = z_p.append(pre)\n",
      "C:\\Users\\hp\\anaconda3\\lib\\site-packages\\sklearn\\base.py:450: UserWarning: X does not have valid feature names, but StandardScaler was fitted with feature names\n",
      "  warnings.warn(\n",
      "C:\\Users\\hp\\AppData\\Local\\Temp\\ipykernel_19188\\224549698.py:299: FutureWarning: The frame.append method is deprecated and will be removed from pandas in a future version. Use pandas.concat instead.\n",
      "  z_p = z_p.append(pre)\n",
      "C:\\Users\\hp\\anaconda3\\lib\\site-packages\\sklearn\\base.py:450: UserWarning: X does not have valid feature names, but StandardScaler was fitted with feature names\n",
      "  warnings.warn(\n"
     ]
    },
    {
     "name": "stdout",
     "output_type": "stream",
     "text": [
      "1/1 [==============================] - 0s 16ms/step\n",
      "1/1 [==============================] - 0s 16ms/step\n",
      "1/1 [==============================] - 0s 16ms/step\n",
      "1/1 [==============================] - ETA: 0s"
     ]
    },
    {
     "name": "stderr",
     "output_type": "stream",
     "text": [
      "C:\\Users\\hp\\AppData\\Local\\Temp\\ipykernel_19188\\224549698.py:299: FutureWarning: The frame.append method is deprecated and will be removed from pandas in a future version. Use pandas.concat instead.\n",
      "  z_p = z_p.append(pre)\n",
      "C:\\Users\\hp\\anaconda3\\lib\\site-packages\\sklearn\\base.py:450: UserWarning: X does not have valid feature names, but StandardScaler was fitted with feature names\n",
      "  warnings.warn(\n",
      "C:\\Users\\hp\\AppData\\Local\\Temp\\ipykernel_19188\\224549698.py:299: FutureWarning: The frame.append method is deprecated and will be removed from pandas in a future version. Use pandas.concat instead.\n",
      "  z_p = z_p.append(pre)\n",
      "C:\\Users\\hp\\anaconda3\\lib\\site-packages\\sklearn\\base.py:450: UserWarning: X does not have valid feature names, but StandardScaler was fitted with feature names\n",
      "  warnings.warn(\n",
      "C:\\Users\\hp\\AppData\\Local\\Temp\\ipykernel_19188\\224549698.py:299: FutureWarning: The frame.append method is deprecated and will be removed from pandas in a future version. Use pandas.concat instead.\n",
      "  z_p = z_p.append(pre)\n",
      "C:\\Users\\hp\\anaconda3\\lib\\site-packages\\sklearn\\base.py:450: UserWarning: X does not have valid feature names, but StandardScaler was fitted with feature names\n",
      "  warnings.warn(\n"
     ]
    },
    {
     "name": "stdout",
     "output_type": "stream",
     "text": [
      "1/1 [==============================] - 0s 6ms/step\n",
      "1/1 [==============================] - 0s 17ms/step\n",
      "1/1 [==============================] - 0s 16ms/step\n"
     ]
    },
    {
     "name": "stderr",
     "output_type": "stream",
     "text": [
      "C:\\Users\\hp\\AppData\\Local\\Temp\\ipykernel_19188\\224549698.py:299: FutureWarning: The frame.append method is deprecated and will be removed from pandas in a future version. Use pandas.concat instead.\n",
      "  z_p = z_p.append(pre)\n",
      "C:\\Users\\hp\\anaconda3\\lib\\site-packages\\sklearn\\base.py:450: UserWarning: X does not have valid feature names, but StandardScaler was fitted with feature names\n",
      "  warnings.warn(\n",
      "C:\\Users\\hp\\AppData\\Local\\Temp\\ipykernel_19188\\224549698.py:299: FutureWarning: The frame.append method is deprecated and will be removed from pandas in a future version. Use pandas.concat instead.\n",
      "  z_p = z_p.append(pre)\n",
      "C:\\Users\\hp\\anaconda3\\lib\\site-packages\\sklearn\\base.py:450: UserWarning: X does not have valid feature names, but StandardScaler was fitted with feature names\n",
      "  warnings.warn(\n",
      "C:\\Users\\hp\\AppData\\Local\\Temp\\ipykernel_19188\\224549698.py:299: FutureWarning: The frame.append method is deprecated and will be removed from pandas in a future version. Use pandas.concat instead.\n",
      "  z_p = z_p.append(pre)\n",
      "C:\\Users\\hp\\anaconda3\\lib\\site-packages\\sklearn\\base.py:450: UserWarning: X does not have valid feature names, but StandardScaler was fitted with feature names\n",
      "  warnings.warn(\n"
     ]
    },
    {
     "name": "stdout",
     "output_type": "stream",
     "text": [
      "1/1 [==============================] - 0s 19ms/step\n",
      "1/1 [==============================] - 0s 17ms/step\n",
      "1/1 [==============================] - 0s 16ms/step\n"
     ]
    },
    {
     "name": "stderr",
     "output_type": "stream",
     "text": [
      "C:\\Users\\hp\\AppData\\Local\\Temp\\ipykernel_19188\\224549698.py:299: FutureWarning: The frame.append method is deprecated and will be removed from pandas in a future version. Use pandas.concat instead.\n",
      "  z_p = z_p.append(pre)\n",
      "C:\\Users\\hp\\anaconda3\\lib\\site-packages\\sklearn\\base.py:450: UserWarning: X does not have valid feature names, but StandardScaler was fitted with feature names\n",
      "  warnings.warn(\n",
      "C:\\Users\\hp\\AppData\\Local\\Temp\\ipykernel_19188\\224549698.py:299: FutureWarning: The frame.append method is deprecated and will be removed from pandas in a future version. Use pandas.concat instead.\n",
      "  z_p = z_p.append(pre)\n",
      "C:\\Users\\hp\\anaconda3\\lib\\site-packages\\sklearn\\base.py:450: UserWarning: X does not have valid feature names, but StandardScaler was fitted with feature names\n",
      "  warnings.warn(\n",
      "C:\\Users\\hp\\AppData\\Local\\Temp\\ipykernel_19188\\224549698.py:299: FutureWarning: The frame.append method is deprecated and will be removed from pandas in a future version. Use pandas.concat instead.\n",
      "  z_p = z_p.append(pre)\n",
      "C:\\Users\\hp\\anaconda3\\lib\\site-packages\\sklearn\\base.py:450: UserWarning: X does not have valid feature names, but StandardScaler was fitted with feature names\n",
      "  warnings.warn(\n"
     ]
    },
    {
     "name": "stdout",
     "output_type": "stream",
     "text": [
      "1/1 [==============================] - 0s 7ms/step\n",
      "1/1 [==============================] - 0s 16ms/step\n",
      "1/1 [==============================] - 0s 15ms/step\n"
     ]
    },
    {
     "name": "stderr",
     "output_type": "stream",
     "text": [
      "C:\\Users\\hp\\AppData\\Local\\Temp\\ipykernel_19188\\224549698.py:299: FutureWarning: The frame.append method is deprecated and will be removed from pandas in a future version. Use pandas.concat instead.\n",
      "  z_p = z_p.append(pre)\n",
      "C:\\Users\\hp\\anaconda3\\lib\\site-packages\\sklearn\\base.py:450: UserWarning: X does not have valid feature names, but StandardScaler was fitted with feature names\n",
      "  warnings.warn(\n",
      "C:\\Users\\hp\\AppData\\Local\\Temp\\ipykernel_19188\\224549698.py:299: FutureWarning: The frame.append method is deprecated and will be removed from pandas in a future version. Use pandas.concat instead.\n",
      "  z_p = z_p.append(pre)\n",
      "C:\\Users\\hp\\anaconda3\\lib\\site-packages\\sklearn\\base.py:450: UserWarning: X does not have valid feature names, but StandardScaler was fitted with feature names\n",
      "  warnings.warn(\n",
      "C:\\Users\\hp\\AppData\\Local\\Temp\\ipykernel_19188\\224549698.py:299: FutureWarning: The frame.append method is deprecated and will be removed from pandas in a future version. Use pandas.concat instead.\n",
      "  z_p = z_p.append(pre)\n"
     ]
    },
    {
     "name": "stdout",
     "output_type": "stream",
     "text": [
      "1/1 [==============================] - 0s 16ms/step\n",
      "1/1 [==============================] - 0s 18ms/step\n"
     ]
    },
    {
     "name": "stderr",
     "output_type": "stream",
     "text": [
      "C:\\Users\\hp\\anaconda3\\lib\\site-packages\\sklearn\\base.py:450: UserWarning: X does not have valid feature names, but StandardScaler was fitted with feature names\n",
      "  warnings.warn(\n",
      "C:\\Users\\hp\\AppData\\Local\\Temp\\ipykernel_19188\\224549698.py:299: FutureWarning: The frame.append method is deprecated and will be removed from pandas in a future version. Use pandas.concat instead.\n",
      "  z_p = z_p.append(pre)\n",
      "C:\\Users\\hp\\anaconda3\\lib\\site-packages\\sklearn\\base.py:450: UserWarning: X does not have valid feature names, but StandardScaler was fitted with feature names\n",
      "  warnings.warn(\n",
      "C:\\Users\\hp\\AppData\\Local\\Temp\\ipykernel_19188\\224549698.py:299: FutureWarning: The frame.append method is deprecated and will be removed from pandas in a future version. Use pandas.concat instead.\n",
      "  z_p = z_p.append(pre)\n",
      "C:\\Users\\hp\\anaconda3\\lib\\site-packages\\sklearn\\base.py:450: UserWarning: X does not have valid feature names, but StandardScaler was fitted with feature names\n",
      "  warnings.warn(\n"
     ]
    },
    {
     "name": "stdout",
     "output_type": "stream",
     "text": [
      "1/1 [==============================] - 0s 22ms/step\n",
      "1/1 [==============================] - 0s 4ms/step\n",
      "1/1 [==============================] - 0s 8ms/step\n",
      "1/1 [==============================] - ETA: 0s"
     ]
    },
    {
     "name": "stderr",
     "output_type": "stream",
     "text": [
      "C:\\Users\\hp\\AppData\\Local\\Temp\\ipykernel_19188\\224549698.py:299: FutureWarning: The frame.append method is deprecated and will be removed from pandas in a future version. Use pandas.concat instead.\n",
      "  z_p = z_p.append(pre)\n",
      "C:\\Users\\hp\\anaconda3\\lib\\site-packages\\sklearn\\base.py:450: UserWarning: X does not have valid feature names, but StandardScaler was fitted with feature names\n",
      "  warnings.warn(\n",
      "C:\\Users\\hp\\AppData\\Local\\Temp\\ipykernel_19188\\224549698.py:299: FutureWarning: The frame.append method is deprecated and will be removed from pandas in a future version. Use pandas.concat instead.\n",
      "  z_p = z_p.append(pre)\n",
      "C:\\Users\\hp\\anaconda3\\lib\\site-packages\\sklearn\\base.py:450: UserWarning: X does not have valid feature names, but StandardScaler was fitted with feature names\n",
      "  warnings.warn(\n",
      "C:\\Users\\hp\\AppData\\Local\\Temp\\ipykernel_19188\\224549698.py:299: FutureWarning: The frame.append method is deprecated and will be removed from pandas in a future version. Use pandas.concat instead.\n",
      "  z_p = z_p.append(pre)\n",
      "C:\\Users\\hp\\anaconda3\\lib\\site-packages\\sklearn\\base.py:450: UserWarning: X does not have valid feature names, but StandardScaler was fitted with feature names\n",
      "  warnings.warn(\n"
     ]
    },
    {
     "name": "stdout",
     "output_type": "stream",
     "text": [
      "1/1 [==============================] - 0s 14ms/step\n",
      "1/1 [==============================] - 0s 27ms/step\n",
      "1/1 [==============================] - 0s 5ms/step\n"
     ]
    },
    {
     "name": "stderr",
     "output_type": "stream",
     "text": [
      "C:\\Users\\hp\\AppData\\Local\\Temp\\ipykernel_19188\\224549698.py:299: FutureWarning: The frame.append method is deprecated and will be removed from pandas in a future version. Use pandas.concat instead.\n",
      "  z_p = z_p.append(pre)\n",
      "C:\\Users\\hp\\anaconda3\\lib\\site-packages\\sklearn\\base.py:450: UserWarning: X does not have valid feature names, but StandardScaler was fitted with feature names\n",
      "  warnings.warn(\n",
      "C:\\Users\\hp\\AppData\\Local\\Temp\\ipykernel_19188\\224549698.py:299: FutureWarning: The frame.append method is deprecated and will be removed from pandas in a future version. Use pandas.concat instead.\n",
      "  z_p = z_p.append(pre)\n",
      "C:\\Users\\hp\\anaconda3\\lib\\site-packages\\sklearn\\base.py:450: UserWarning: X does not have valid feature names, but StandardScaler was fitted with feature names\n",
      "  warnings.warn(\n",
      "C:\\Users\\hp\\AppData\\Local\\Temp\\ipykernel_19188\\224549698.py:299: FutureWarning: The frame.append method is deprecated and will be removed from pandas in a future version. Use pandas.concat instead.\n",
      "  z_p = z_p.append(pre)\n",
      "C:\\Users\\hp\\anaconda3\\lib\\site-packages\\sklearn\\base.py:450: UserWarning: X does not have valid feature names, but StandardScaler was fitted with feature names\n",
      "  warnings.warn(\n"
     ]
    },
    {
     "name": "stdout",
     "output_type": "stream",
     "text": [
      "1/1 [==============================] - 0s 22ms/step\n",
      "1/1 [==============================] - 0s 16ms/step\n",
      "1/1 [==============================] - 0s 16ms/step\n"
     ]
    },
    {
     "name": "stderr",
     "output_type": "stream",
     "text": [
      "C:\\Users\\hp\\AppData\\Local\\Temp\\ipykernel_19188\\224549698.py:299: FutureWarning: The frame.append method is deprecated and will be removed from pandas in a future version. Use pandas.concat instead.\n",
      "  z_p = z_p.append(pre)\n",
      "C:\\Users\\hp\\anaconda3\\lib\\site-packages\\sklearn\\base.py:450: UserWarning: X does not have valid feature names, but StandardScaler was fitted with feature names\n",
      "  warnings.warn(\n",
      "C:\\Users\\hp\\AppData\\Local\\Temp\\ipykernel_19188\\224549698.py:299: FutureWarning: The frame.append method is deprecated and will be removed from pandas in a future version. Use pandas.concat instead.\n",
      "  z_p = z_p.append(pre)\n",
      "C:\\Users\\hp\\anaconda3\\lib\\site-packages\\sklearn\\base.py:450: UserWarning: X does not have valid feature names, but StandardScaler was fitted with feature names\n",
      "  warnings.warn(\n",
      "C:\\Users\\hp\\AppData\\Local\\Temp\\ipykernel_19188\\224549698.py:299: FutureWarning: The frame.append method is deprecated and will be removed from pandas in a future version. Use pandas.concat instead.\n",
      "  z_p = z_p.append(pre)\n",
      "C:\\Users\\hp\\anaconda3\\lib\\site-packages\\sklearn\\base.py:450: UserWarning: X does not have valid feature names, but StandardScaler was fitted with feature names\n",
      "  warnings.warn(\n"
     ]
    },
    {
     "name": "stdout",
     "output_type": "stream",
     "text": [
      "1/1 [==============================] - 0s 19ms/step\n",
      "1/1 [==============================] - 0s 20ms/step\n",
      "1/1 [==============================] - 0s 7ms/step\n",
      "1/1 [==============================] - ETA: 0s"
     ]
    },
    {
     "name": "stderr",
     "output_type": "stream",
     "text": [
      "C:\\Users\\hp\\AppData\\Local\\Temp\\ipykernel_19188\\224549698.py:299: FutureWarning: The frame.append method is deprecated and will be removed from pandas in a future version. Use pandas.concat instead.\n",
      "  z_p = z_p.append(pre)\n",
      "C:\\Users\\hp\\anaconda3\\lib\\site-packages\\sklearn\\base.py:450: UserWarning: X does not have valid feature names, but StandardScaler was fitted with feature names\n",
      "  warnings.warn(\n",
      "C:\\Users\\hp\\AppData\\Local\\Temp\\ipykernel_19188\\224549698.py:299: FutureWarning: The frame.append method is deprecated and will be removed from pandas in a future version. Use pandas.concat instead.\n",
      "  z_p = z_p.append(pre)\n",
      "C:\\Users\\hp\\anaconda3\\lib\\site-packages\\sklearn\\base.py:450: UserWarning: X does not have valid feature names, but StandardScaler was fitted with feature names\n",
      "  warnings.warn(\n",
      "C:\\Users\\hp\\AppData\\Local\\Temp\\ipykernel_19188\\224549698.py:299: FutureWarning: The frame.append method is deprecated and will be removed from pandas in a future version. Use pandas.concat instead.\n",
      "  z_p = z_p.append(pre)\n",
      "C:\\Users\\hp\\anaconda3\\lib\\site-packages\\sklearn\\base.py:450: UserWarning: X does not have valid feature names, but StandardScaler was fitted with feature names\n",
      "  warnings.warn(\n"
     ]
    },
    {
     "name": "stdout",
     "output_type": "stream",
     "text": [
      "1/1 [==============================] - 0s 10ms/step\n",
      "1/1 [==============================] - 0s 10ms/step\n",
      "1/1 [==============================] - 0s 16ms/step\n",
      "1/1 [==============================] - ETA: 0s"
     ]
    },
    {
     "name": "stderr",
     "output_type": "stream",
     "text": [
      "C:\\Users\\hp\\AppData\\Local\\Temp\\ipykernel_19188\\224549698.py:299: FutureWarning: The frame.append method is deprecated and will be removed from pandas in a future version. Use pandas.concat instead.\n",
      "  z_p = z_p.append(pre)\n",
      "C:\\Users\\hp\\anaconda3\\lib\\site-packages\\sklearn\\base.py:450: UserWarning: X does not have valid feature names, but StandardScaler was fitted with feature names\n",
      "  warnings.warn(\n",
      "C:\\Users\\hp\\AppData\\Local\\Temp\\ipykernel_19188\\224549698.py:299: FutureWarning: The frame.append method is deprecated and will be removed from pandas in a future version. Use pandas.concat instead.\n",
      "  z_p = z_p.append(pre)\n",
      "C:\\Users\\hp\\anaconda3\\lib\\site-packages\\sklearn\\base.py:450: UserWarning: X does not have valid feature names, but StandardScaler was fitted with feature names\n",
      "  warnings.warn(\n",
      "C:\\Users\\hp\\AppData\\Local\\Temp\\ipykernel_19188\\224549698.py:299: FutureWarning: The frame.append method is deprecated and will be removed from pandas in a future version. Use pandas.concat instead.\n",
      "  z_p = z_p.append(pre)\n",
      "C:\\Users\\hp\\anaconda3\\lib\\site-packages\\sklearn\\base.py:450: UserWarning: X does not have valid feature names, but StandardScaler was fitted with feature names\n",
      "  warnings.warn(\n"
     ]
    },
    {
     "name": "stdout",
     "output_type": "stream",
     "text": [
      "1/1 [==============================] - 0s 18ms/step\n",
      "1/1 [==============================] - 0s 6ms/step\n",
      "1/1 [==============================] - 0s 19ms/step\n"
     ]
    },
    {
     "name": "stderr",
     "output_type": "stream",
     "text": [
      "C:\\Users\\hp\\AppData\\Local\\Temp\\ipykernel_19188\\224549698.py:299: FutureWarning: The frame.append method is deprecated and will be removed from pandas in a future version. Use pandas.concat instead.\n",
      "  z_p = z_p.append(pre)\n",
      "C:\\Users\\hp\\anaconda3\\lib\\site-packages\\sklearn\\base.py:450: UserWarning: X does not have valid feature names, but StandardScaler was fitted with feature names\n",
      "  warnings.warn(\n",
      "C:\\Users\\hp\\AppData\\Local\\Temp\\ipykernel_19188\\224549698.py:299: FutureWarning: The frame.append method is deprecated and will be removed from pandas in a future version. Use pandas.concat instead.\n",
      "  z_p = z_p.append(pre)\n",
      "C:\\Users\\hp\\anaconda3\\lib\\site-packages\\sklearn\\base.py:450: UserWarning: X does not have valid feature names, but StandardScaler was fitted with feature names\n",
      "  warnings.warn(\n",
      "C:\\Users\\hp\\AppData\\Local\\Temp\\ipykernel_19188\\224549698.py:299: FutureWarning: The frame.append method is deprecated and will be removed from pandas in a future version. Use pandas.concat instead.\n",
      "  z_p = z_p.append(pre)\n",
      "C:\\Users\\hp\\anaconda3\\lib\\site-packages\\sklearn\\base.py:450: UserWarning: X does not have valid feature names, but StandardScaler was fitted with feature names\n",
      "  warnings.warn(\n"
     ]
    },
    {
     "name": "stdout",
     "output_type": "stream",
     "text": [
      "1/1 [==============================] - 0s 20ms/step\n",
      "1/1 [==============================] - 0s 17ms/step\n",
      "1/1 [==============================] - 0s 4ms/step\n",
      "1/1 [==============================] - ETA: 0s"
     ]
    },
    {
     "name": "stderr",
     "output_type": "stream",
     "text": [
      "C:\\Users\\hp\\AppData\\Local\\Temp\\ipykernel_19188\\224549698.py:299: FutureWarning: The frame.append method is deprecated and will be removed from pandas in a future version. Use pandas.concat instead.\n",
      "  z_p = z_p.append(pre)\n",
      "C:\\Users\\hp\\anaconda3\\lib\\site-packages\\sklearn\\base.py:450: UserWarning: X does not have valid feature names, but StandardScaler was fitted with feature names\n",
      "  warnings.warn(\n",
      "C:\\Users\\hp\\AppData\\Local\\Temp\\ipykernel_19188\\224549698.py:299: FutureWarning: The frame.append method is deprecated and will be removed from pandas in a future version. Use pandas.concat instead.\n",
      "  z_p = z_p.append(pre)\n",
      "C:\\Users\\hp\\anaconda3\\lib\\site-packages\\sklearn\\base.py:450: UserWarning: X does not have valid feature names, but StandardScaler was fitted with feature names\n",
      "  warnings.warn(\n",
      "C:\\Users\\hp\\AppData\\Local\\Temp\\ipykernel_19188\\224549698.py:299: FutureWarning: The frame.append method is deprecated and will be removed from pandas in a future version. Use pandas.concat instead.\n",
      "  z_p = z_p.append(pre)\n",
      "C:\\Users\\hp\\anaconda3\\lib\\site-packages\\sklearn\\base.py:450: UserWarning: X does not have valid feature names, but StandardScaler was fitted with feature names\n",
      "  warnings.warn(\n"
     ]
    },
    {
     "name": "stdout",
     "output_type": "stream",
     "text": [
      "1/1 [==============================] - 0s 9ms/step\n",
      "1/1 [==============================] - 0s 13ms/step\n",
      "1/1 [==============================] - 0s 17ms/step\n"
     ]
    },
    {
     "name": "stderr",
     "output_type": "stream",
     "text": [
      "C:\\Users\\hp\\AppData\\Local\\Temp\\ipykernel_19188\\224549698.py:299: FutureWarning: The frame.append method is deprecated and will be removed from pandas in a future version. Use pandas.concat instead.\n",
      "  z_p = z_p.append(pre)\n",
      "C:\\Users\\hp\\anaconda3\\lib\\site-packages\\sklearn\\base.py:450: UserWarning: X does not have valid feature names, but StandardScaler was fitted with feature names\n",
      "  warnings.warn(\n",
      "C:\\Users\\hp\\AppData\\Local\\Temp\\ipykernel_19188\\224549698.py:299: FutureWarning: The frame.append method is deprecated and will be removed from pandas in a future version. Use pandas.concat instead.\n",
      "  z_p = z_p.append(pre)\n",
      "C:\\Users\\hp\\anaconda3\\lib\\site-packages\\sklearn\\base.py:450: UserWarning: X does not have valid feature names, but StandardScaler was fitted with feature names\n",
      "  warnings.warn(\n",
      "C:\\Users\\hp\\AppData\\Local\\Temp\\ipykernel_19188\\224549698.py:299: FutureWarning: The frame.append method is deprecated and will be removed from pandas in a future version. Use pandas.concat instead.\n",
      "  z_p = z_p.append(pre)\n",
      "C:\\Users\\hp\\anaconda3\\lib\\site-packages\\sklearn\\base.py:450: UserWarning: X does not have valid feature names, but StandardScaler was fitted with feature names\n",
      "  warnings.warn(\n"
     ]
    },
    {
     "name": "stdout",
     "output_type": "stream",
     "text": [
      "1/1 [==============================] - 0s 18ms/step\n",
      "1/1 [==============================] - 0s 5ms/step\n",
      "1/1 [==============================] - 0s 14ms/step\n",
      "1/1 [==============================] - ETA: 0s"
     ]
    },
    {
     "name": "stderr",
     "output_type": "stream",
     "text": [
      "C:\\Users\\hp\\AppData\\Local\\Temp\\ipykernel_19188\\224549698.py:299: FutureWarning: The frame.append method is deprecated and will be removed from pandas in a future version. Use pandas.concat instead.\n",
      "  z_p = z_p.append(pre)\n",
      "C:\\Users\\hp\\anaconda3\\lib\\site-packages\\sklearn\\base.py:450: UserWarning: X does not have valid feature names, but StandardScaler was fitted with feature names\n",
      "  warnings.warn(\n",
      "C:\\Users\\hp\\AppData\\Local\\Temp\\ipykernel_19188\\224549698.py:299: FutureWarning: The frame.append method is deprecated and will be removed from pandas in a future version. Use pandas.concat instead.\n",
      "  z_p = z_p.append(pre)\n",
      "C:\\Users\\hp\\anaconda3\\lib\\site-packages\\sklearn\\base.py:450: UserWarning: X does not have valid feature names, but StandardScaler was fitted with feature names\n",
      "  warnings.warn(\n",
      "C:\\Users\\hp\\AppData\\Local\\Temp\\ipykernel_19188\\224549698.py:299: FutureWarning: The frame.append method is deprecated and will be removed from pandas in a future version. Use pandas.concat instead.\n",
      "  z_p = z_p.append(pre)\n",
      "C:\\Users\\hp\\anaconda3\\lib\\site-packages\\sklearn\\base.py:450: UserWarning: X does not have valid feature names, but StandardScaler was fitted with feature names\n",
      "  warnings.warn(\n"
     ]
    },
    {
     "name": "stdout",
     "output_type": "stream",
     "text": [
      "1/1 [==============================] - 0s 16ms/step\n",
      "1/1 [==============================] - 0s 17ms/step\n",
      "1/1 [==============================] - 0s 16ms/step\n"
     ]
    },
    {
     "name": "stderr",
     "output_type": "stream",
     "text": [
      "C:\\Users\\hp\\AppData\\Local\\Temp\\ipykernel_19188\\224549698.py:299: FutureWarning: The frame.append method is deprecated and will be removed from pandas in a future version. Use pandas.concat instead.\n",
      "  z_p = z_p.append(pre)\n",
      "C:\\Users\\hp\\anaconda3\\lib\\site-packages\\sklearn\\base.py:450: UserWarning: X does not have valid feature names, but StandardScaler was fitted with feature names\n",
      "  warnings.warn(\n",
      "C:\\Users\\hp\\AppData\\Local\\Temp\\ipykernel_19188\\224549698.py:299: FutureWarning: The frame.append method is deprecated and will be removed from pandas in a future version. Use pandas.concat instead.\n",
      "  z_p = z_p.append(pre)\n",
      "C:\\Users\\hp\\anaconda3\\lib\\site-packages\\sklearn\\base.py:450: UserWarning: X does not have valid feature names, but StandardScaler was fitted with feature names\n",
      "  warnings.warn(\n",
      "C:\\Users\\hp\\AppData\\Local\\Temp\\ipykernel_19188\\224549698.py:299: FutureWarning: The frame.append method is deprecated and will be removed from pandas in a future version. Use pandas.concat instead.\n",
      "  z_p = z_p.append(pre)\n",
      "C:\\Users\\hp\\anaconda3\\lib\\site-packages\\sklearn\\base.py:450: UserWarning: X does not have valid feature names, but StandardScaler was fitted with feature names\n",
      "  warnings.warn(\n"
     ]
    },
    {
     "name": "stdout",
     "output_type": "stream",
     "text": [
      "1/1 [==============================] - 0s 33ms/step\n",
      "1/1 [==============================] - 0s 17ms/step\n",
      "1/1 [==============================] - 0s 8ms/step\n",
      "1/1 [==============================] - ETA: 0s"
     ]
    },
    {
     "name": "stderr",
     "output_type": "stream",
     "text": [
      "C:\\Users\\hp\\AppData\\Local\\Temp\\ipykernel_19188\\224549698.py:299: FutureWarning: The frame.append method is deprecated and will be removed from pandas in a future version. Use pandas.concat instead.\n",
      "  z_p = z_p.append(pre)\n",
      "C:\\Users\\hp\\anaconda3\\lib\\site-packages\\sklearn\\base.py:450: UserWarning: X does not have valid feature names, but StandardScaler was fitted with feature names\n",
      "  warnings.warn(\n",
      "C:\\Users\\hp\\AppData\\Local\\Temp\\ipykernel_19188\\224549698.py:299: FutureWarning: The frame.append method is deprecated and will be removed from pandas in a future version. Use pandas.concat instead.\n",
      "  z_p = z_p.append(pre)\n",
      "C:\\Users\\hp\\anaconda3\\lib\\site-packages\\sklearn\\base.py:450: UserWarning: X does not have valid feature names, but StandardScaler was fitted with feature names\n",
      "  warnings.warn(\n",
      "C:\\Users\\hp\\AppData\\Local\\Temp\\ipykernel_19188\\224549698.py:299: FutureWarning: The frame.append method is deprecated and will be removed from pandas in a future version. Use pandas.concat instead.\n",
      "  z_p = z_p.append(pre)\n",
      "C:\\Users\\hp\\anaconda3\\lib\\site-packages\\sklearn\\base.py:450: UserWarning: X does not have valid feature names, but StandardScaler was fitted with feature names\n",
      "  warnings.warn(\n"
     ]
    },
    {
     "name": "stdout",
     "output_type": "stream",
     "text": [
      "1/1 [==============================] - 0s 16ms/step\n",
      "1/1 [==============================] - 0s 3ms/step\n",
      "1/1 [==============================] - 0s 11ms/step\n",
      "1/1 [==============================] - ETA: 0s"
     ]
    },
    {
     "name": "stderr",
     "output_type": "stream",
     "text": [
      "C:\\Users\\hp\\AppData\\Local\\Temp\\ipykernel_19188\\224549698.py:299: FutureWarning: The frame.append method is deprecated and will be removed from pandas in a future version. Use pandas.concat instead.\n",
      "  z_p = z_p.append(pre)\n",
      "C:\\Users\\hp\\anaconda3\\lib\\site-packages\\sklearn\\base.py:450: UserWarning: X does not have valid feature names, but StandardScaler was fitted with feature names\n",
      "  warnings.warn(\n",
      "C:\\Users\\hp\\AppData\\Local\\Temp\\ipykernel_19188\\224549698.py:299: FutureWarning: The frame.append method is deprecated and will be removed from pandas in a future version. Use pandas.concat instead.\n",
      "  z_p = z_p.append(pre)\n",
      "C:\\Users\\hp\\anaconda3\\lib\\site-packages\\sklearn\\base.py:450: UserWarning: X does not have valid feature names, but StandardScaler was fitted with feature names\n",
      "  warnings.warn(\n",
      "C:\\Users\\hp\\AppData\\Local\\Temp\\ipykernel_19188\\224549698.py:299: FutureWarning: The frame.append method is deprecated and will be removed from pandas in a future version. Use pandas.concat instead.\n",
      "  z_p = z_p.append(pre)\n",
      "C:\\Users\\hp\\anaconda3\\lib\\site-packages\\sklearn\\base.py:450: UserWarning: X does not have valid feature names, but StandardScaler was fitted with feature names\n",
      "  warnings.warn(\n"
     ]
    },
    {
     "name": "stdout",
     "output_type": "stream",
     "text": [
      "1/1 [==============================] - 0s 16ms/step\n",
      "1/1 [==============================] - 0s 17ms/step\n"
     ]
    },
    {
     "name": "stderr",
     "output_type": "stream",
     "text": [
      "C:\\Users\\hp\\AppData\\Local\\Temp\\ipykernel_19188\\224549698.py:299: FutureWarning: The frame.append method is deprecated and will be removed from pandas in a future version. Use pandas.concat instead.\n",
      "  z_p = z_p.append(pre)\n",
      "C:\\Users\\hp\\anaconda3\\lib\\site-packages\\sklearn\\base.py:450: UserWarning: X does not have valid feature names, but StandardScaler was fitted with feature names\n",
      "  warnings.warn(\n",
      "C:\\Users\\hp\\AppData\\Local\\Temp\\ipykernel_19188\\224549698.py:299: FutureWarning: The frame.append method is deprecated and will be removed from pandas in a future version. Use pandas.concat instead.\n",
      "  z_p = z_p.append(pre)\n"
     ]
    },
    {
     "name": "stdout",
     "output_type": "stream",
     "text": [
      "1/1 [==============================] - 0s 26ms/step\n",
      "1/1 [==============================] - 0s 16ms/step\n",
      "1/1 [==============================] - ETA: 0s"
     ]
    },
    {
     "name": "stderr",
     "output_type": "stream",
     "text": [
      "C:\\Users\\hp\\anaconda3\\lib\\site-packages\\sklearn\\base.py:450: UserWarning: X does not have valid feature names, but StandardScaler was fitted with feature names\n",
      "  warnings.warn(\n",
      "C:\\Users\\hp\\AppData\\Local\\Temp\\ipykernel_19188\\224549698.py:303: FutureWarning: The frame.append method is deprecated and will be removed from pandas in a future version. Use pandas.concat instead.\n",
      "  z_p = z_p.append(pre)\n",
      "C:\\Users\\hp\\anaconda3\\lib\\site-packages\\sklearn\\base.py:450: UserWarning: X does not have valid feature names, but StandardScaler was fitted with feature names\n",
      "  warnings.warn(\n",
      "C:\\Users\\hp\\AppData\\Local\\Temp\\ipykernel_19188\\224549698.py:303: FutureWarning: The frame.append method is deprecated and will be removed from pandas in a future version. Use pandas.concat instead.\n",
      "  z_p = z_p.append(pre)\n",
      "C:\\Users\\hp\\anaconda3\\lib\\site-packages\\sklearn\\base.py:450: UserWarning: X does not have valid feature names, but StandardScaler was fitted with feature names\n",
      "  warnings.warn(\n"
     ]
    },
    {
     "name": "stdout",
     "output_type": "stream",
     "text": [
      "1/1 [==============================] - 0s 6ms/step\n",
      "1/1 [==============================] - 0s 18ms/step\n",
      "1/1 [==============================] - 0s 14ms/step\n"
     ]
    },
    {
     "name": "stderr",
     "output_type": "stream",
     "text": [
      "C:\\Users\\hp\\AppData\\Local\\Temp\\ipykernel_19188\\224549698.py:303: FutureWarning: The frame.append method is deprecated and will be removed from pandas in a future version. Use pandas.concat instead.\n",
      "  z_p = z_p.append(pre)\n",
      "C:\\Users\\hp\\anaconda3\\lib\\site-packages\\sklearn\\base.py:450: UserWarning: X does not have valid feature names, but StandardScaler was fitted with feature names\n",
      "  warnings.warn(\n",
      "C:\\Users\\hp\\AppData\\Local\\Temp\\ipykernel_19188\\224549698.py:303: FutureWarning: The frame.append method is deprecated and will be removed from pandas in a future version. Use pandas.concat instead.\n",
      "  z_p = z_p.append(pre)\n",
      "C:\\Users\\hp\\anaconda3\\lib\\site-packages\\sklearn\\base.py:450: UserWarning: X does not have valid feature names, but StandardScaler was fitted with feature names\n",
      "  warnings.warn(\n",
      "C:\\Users\\hp\\AppData\\Local\\Temp\\ipykernel_19188\\224549698.py:303: FutureWarning: The frame.append method is deprecated and will be removed from pandas in a future version. Use pandas.concat instead.\n",
      "  z_p = z_p.append(pre)\n",
      "C:\\Users\\hp\\anaconda3\\lib\\site-packages\\sklearn\\base.py:450: UserWarning: X does not have valid feature names, but StandardScaler was fitted with feature names\n",
      "  warnings.warn(\n"
     ]
    },
    {
     "name": "stdout",
     "output_type": "stream",
     "text": [
      "1/1 [==============================] - 0s 19ms/step\n",
      "1/1 [==============================] - 0s 4ms/step\n",
      "1/1 [==============================] - 0s 18ms/step\n"
     ]
    },
    {
     "name": "stderr",
     "output_type": "stream",
     "text": [
      "C:\\Users\\hp\\AppData\\Local\\Temp\\ipykernel_19188\\224549698.py:303: FutureWarning: The frame.append method is deprecated and will be removed from pandas in a future version. Use pandas.concat instead.\n",
      "  z_p = z_p.append(pre)\n",
      "C:\\Users\\hp\\anaconda3\\lib\\site-packages\\sklearn\\base.py:450: UserWarning: X does not have valid feature names, but StandardScaler was fitted with feature names\n",
      "  warnings.warn(\n",
      "C:\\Users\\hp\\AppData\\Local\\Temp\\ipykernel_19188\\224549698.py:303: FutureWarning: The frame.append method is deprecated and will be removed from pandas in a future version. Use pandas.concat instead.\n",
      "  z_p = z_p.append(pre)\n",
      "C:\\Users\\hp\\anaconda3\\lib\\site-packages\\sklearn\\base.py:450: UserWarning: X does not have valid feature names, but StandardScaler was fitted with feature names\n",
      "  warnings.warn(\n",
      "C:\\Users\\hp\\AppData\\Local\\Temp\\ipykernel_19188\\224549698.py:303: FutureWarning: The frame.append method is deprecated and will be removed from pandas in a future version. Use pandas.concat instead.\n",
      "  z_p = z_p.append(pre)\n",
      "C:\\Users\\hp\\anaconda3\\lib\\site-packages\\sklearn\\base.py:450: UserWarning: X does not have valid feature names, but StandardScaler was fitted with feature names\n",
      "  warnings.warn(\n"
     ]
    },
    {
     "name": "stdout",
     "output_type": "stream",
     "text": [
      "1/1 [==============================] - 0s 13ms/step\n",
      "1/1 [==============================] - 0s 23ms/step\n",
      "1/1 [==============================] - 0s 18ms/step\n",
      "1/1 [==============================] - ETA: 0s"
     ]
    },
    {
     "name": "stderr",
     "output_type": "stream",
     "text": [
      "C:\\Users\\hp\\AppData\\Local\\Temp\\ipykernel_19188\\224549698.py:303: FutureWarning: The frame.append method is deprecated and will be removed from pandas in a future version. Use pandas.concat instead.\n",
      "  z_p = z_p.append(pre)\n",
      "C:\\Users\\hp\\anaconda3\\lib\\site-packages\\sklearn\\base.py:450: UserWarning: X does not have valid feature names, but StandardScaler was fitted with feature names\n",
      "  warnings.warn(\n",
      "C:\\Users\\hp\\AppData\\Local\\Temp\\ipykernel_19188\\224549698.py:303: FutureWarning: The frame.append method is deprecated and will be removed from pandas in a future version. Use pandas.concat instead.\n",
      "  z_p = z_p.append(pre)\n",
      "C:\\Users\\hp\\anaconda3\\lib\\site-packages\\sklearn\\base.py:450: UserWarning: X does not have valid feature names, but StandardScaler was fitted with feature names\n",
      "  warnings.warn(\n",
      "C:\\Users\\hp\\AppData\\Local\\Temp\\ipykernel_19188\\224549698.py:303: FutureWarning: The frame.append method is deprecated and will be removed from pandas in a future version. Use pandas.concat instead.\n",
      "  z_p = z_p.append(pre)\n",
      "C:\\Users\\hp\\anaconda3\\lib\\site-packages\\sklearn\\base.py:450: UserWarning: X does not have valid feature names, but StandardScaler was fitted with feature names\n",
      "  warnings.warn(\n"
     ]
    },
    {
     "name": "stdout",
     "output_type": "stream",
     "text": [
      "1/1 [==============================] - 0s 10ms/step\n",
      "1/1 [==============================] - 0s 10ms/step\n",
      "1/1 [==============================] - 0s 14ms/step\n"
     ]
    },
    {
     "name": "stderr",
     "output_type": "stream",
     "text": [
      "C:\\Users\\hp\\AppData\\Local\\Temp\\ipykernel_19188\\224549698.py:303: FutureWarning: The frame.append method is deprecated and will be removed from pandas in a future version. Use pandas.concat instead.\n",
      "  z_p = z_p.append(pre)\n",
      "C:\\Users\\hp\\anaconda3\\lib\\site-packages\\sklearn\\base.py:450: UserWarning: X does not have valid feature names, but StandardScaler was fitted with feature names\n",
      "  warnings.warn(\n",
      "C:\\Users\\hp\\AppData\\Local\\Temp\\ipykernel_19188\\224549698.py:303: FutureWarning: The frame.append method is deprecated and will be removed from pandas in a future version. Use pandas.concat instead.\n",
      "  z_p = z_p.append(pre)\n",
      "C:\\Users\\hp\\anaconda3\\lib\\site-packages\\sklearn\\base.py:450: UserWarning: X does not have valid feature names, but StandardScaler was fitted with feature names\n",
      "  warnings.warn(\n",
      "C:\\Users\\hp\\AppData\\Local\\Temp\\ipykernel_19188\\224549698.py:303: FutureWarning: The frame.append method is deprecated and will be removed from pandas in a future version. Use pandas.concat instead.\n",
      "  z_p = z_p.append(pre)\n",
      "C:\\Users\\hp\\anaconda3\\lib\\site-packages\\sklearn\\base.py:450: UserWarning: X does not have valid feature names, but StandardScaler was fitted with feature names\n",
      "  warnings.warn(\n"
     ]
    },
    {
     "name": "stdout",
     "output_type": "stream",
     "text": [
      "1/1 [==============================] - 0s 16ms/step\n",
      "1/1 [==============================] - 0s 14ms/step\n",
      "1/1 [==============================] - 0s 20ms/step\n",
      "1/1 [==============================] - ETA: 0s"
     ]
    },
    {
     "name": "stderr",
     "output_type": "stream",
     "text": [
      "C:\\Users\\hp\\AppData\\Local\\Temp\\ipykernel_19188\\224549698.py:303: FutureWarning: The frame.append method is deprecated and will be removed from pandas in a future version. Use pandas.concat instead.\n",
      "  z_p = z_p.append(pre)\n",
      "C:\\Users\\hp\\anaconda3\\lib\\site-packages\\sklearn\\base.py:450: UserWarning: X does not have valid feature names, but StandardScaler was fitted with feature names\n",
      "  warnings.warn(\n",
      "C:\\Users\\hp\\AppData\\Local\\Temp\\ipykernel_19188\\224549698.py:303: FutureWarning: The frame.append method is deprecated and will be removed from pandas in a future version. Use pandas.concat instead.\n",
      "  z_p = z_p.append(pre)\n",
      "C:\\Users\\hp\\anaconda3\\lib\\site-packages\\sklearn\\base.py:450: UserWarning: X does not have valid feature names, but StandardScaler was fitted with feature names\n",
      "  warnings.warn(\n",
      "C:\\Users\\hp\\AppData\\Local\\Temp\\ipykernel_19188\\224549698.py:303: FutureWarning: The frame.append method is deprecated and will be removed from pandas in a future version. Use pandas.concat instead.\n",
      "  z_p = z_p.append(pre)\n",
      "C:\\Users\\hp\\anaconda3\\lib\\site-packages\\sklearn\\base.py:450: UserWarning: X does not have valid feature names, but StandardScaler was fitted with feature names\n",
      "  warnings.warn(\n"
     ]
    },
    {
     "name": "stdout",
     "output_type": "stream",
     "text": [
      "1/1 [==============================] - 0s 8ms/step\n",
      "1/1 [==============================] - 0s 17ms/step\n",
      "1/1 [==============================] - 0s 16ms/step\n",
      "1/1 [==============================] - ETA: 0s"
     ]
    },
    {
     "name": "stderr",
     "output_type": "stream",
     "text": [
      "C:\\Users\\hp\\AppData\\Local\\Temp\\ipykernel_19188\\224549698.py:303: FutureWarning: The frame.append method is deprecated and will be removed from pandas in a future version. Use pandas.concat instead.\n",
      "  z_p = z_p.append(pre)\n",
      "C:\\Users\\hp\\anaconda3\\lib\\site-packages\\sklearn\\base.py:450: UserWarning: X does not have valid feature names, but StandardScaler was fitted with feature names\n",
      "  warnings.warn(\n",
      "C:\\Users\\hp\\AppData\\Local\\Temp\\ipykernel_19188\\224549698.py:303: FutureWarning: The frame.append method is deprecated and will be removed from pandas in a future version. Use pandas.concat instead.\n",
      "  z_p = z_p.append(pre)\n",
      "C:\\Users\\hp\\anaconda3\\lib\\site-packages\\sklearn\\base.py:450: UserWarning: X does not have valid feature names, but StandardScaler was fitted with feature names\n",
      "  warnings.warn(\n",
      "C:\\Users\\hp\\AppData\\Local\\Temp\\ipykernel_19188\\224549698.py:303: FutureWarning: The frame.append method is deprecated and will be removed from pandas in a future version. Use pandas.concat instead.\n",
      "  z_p = z_p.append(pre)\n",
      "C:\\Users\\hp\\anaconda3\\lib\\site-packages\\sklearn\\base.py:450: UserWarning: X does not have valid feature names, but StandardScaler was fitted with feature names\n",
      "  warnings.warn(\n"
     ]
    },
    {
     "name": "stdout",
     "output_type": "stream",
     "text": [
      "1/1 [==============================] - 0s 5ms/step\n",
      "1/1 [==============================] - 0s 3ms/step\n",
      "1/1 [==============================] - 0s 9ms/step\n"
     ]
    },
    {
     "name": "stderr",
     "output_type": "stream",
     "text": [
      "C:\\Users\\hp\\AppData\\Local\\Temp\\ipykernel_19188\\224549698.py:303: FutureWarning: The frame.append method is deprecated and will be removed from pandas in a future version. Use pandas.concat instead.\n",
      "  z_p = z_p.append(pre)\n",
      "C:\\Users\\hp\\anaconda3\\lib\\site-packages\\sklearn\\base.py:450: UserWarning: X does not have valid feature names, but StandardScaler was fitted with feature names\n",
      "  warnings.warn(\n",
      "C:\\Users\\hp\\AppData\\Local\\Temp\\ipykernel_19188\\224549698.py:303: FutureWarning: The frame.append method is deprecated and will be removed from pandas in a future version. Use pandas.concat instead.\n",
      "  z_p = z_p.append(pre)\n",
      "C:\\Users\\hp\\anaconda3\\lib\\site-packages\\sklearn\\base.py:450: UserWarning: X does not have valid feature names, but StandardScaler was fitted with feature names\n",
      "  warnings.warn(\n",
      "C:\\Users\\hp\\AppData\\Local\\Temp\\ipykernel_19188\\224549698.py:303: FutureWarning: The frame.append method is deprecated and will be removed from pandas in a future version. Use pandas.concat instead.\n",
      "  z_p = z_p.append(pre)\n",
      "C:\\Users\\hp\\anaconda3\\lib\\site-packages\\sklearn\\base.py:450: UserWarning: X does not have valid feature names, but StandardScaler was fitted with feature names\n",
      "  warnings.warn(\n"
     ]
    },
    {
     "name": "stdout",
     "output_type": "stream",
     "text": [
      "1/1 [==============================] - 0s 12ms/step\n",
      "1/1 [==============================] - 0s 16ms/step\n",
      "1/1 [==============================] - 0s 13ms/step\n"
     ]
    },
    {
     "name": "stderr",
     "output_type": "stream",
     "text": [
      "C:\\Users\\hp\\AppData\\Local\\Temp\\ipykernel_19188\\224549698.py:303: FutureWarning: The frame.append method is deprecated and will be removed from pandas in a future version. Use pandas.concat instead.\n",
      "  z_p = z_p.append(pre)\n",
      "C:\\Users\\hp\\anaconda3\\lib\\site-packages\\sklearn\\base.py:450: UserWarning: X does not have valid feature names, but StandardScaler was fitted with feature names\n",
      "  warnings.warn(\n",
      "C:\\Users\\hp\\AppData\\Local\\Temp\\ipykernel_19188\\224549698.py:303: FutureWarning: The frame.append method is deprecated and will be removed from pandas in a future version. Use pandas.concat instead.\n",
      "  z_p = z_p.append(pre)\n",
      "C:\\Users\\hp\\anaconda3\\lib\\site-packages\\sklearn\\base.py:450: UserWarning: X does not have valid feature names, but StandardScaler was fitted with feature names\n",
      "  warnings.warn(\n",
      "C:\\Users\\hp\\AppData\\Local\\Temp\\ipykernel_19188\\224549698.py:303: FutureWarning: The frame.append method is deprecated and will be removed from pandas in a future version. Use pandas.concat instead.\n",
      "  z_p = z_p.append(pre)\n",
      "C:\\Users\\hp\\anaconda3\\lib\\site-packages\\sklearn\\base.py:450: UserWarning: X does not have valid feature names, but StandardScaler was fitted with feature names\n",
      "  warnings.warn(\n"
     ]
    },
    {
     "name": "stdout",
     "output_type": "stream",
     "text": [
      "1/1 [==============================] - 0s 17ms/step\n",
      "1/1 [==============================] - 0s 16ms/step\n",
      "1/1 [==============================] - 0s 19ms/step\n",
      "1/1 [==============================] - ETA: 0s"
     ]
    },
    {
     "name": "stderr",
     "output_type": "stream",
     "text": [
      "C:\\Users\\hp\\AppData\\Local\\Temp\\ipykernel_19188\\224549698.py:303: FutureWarning: The frame.append method is deprecated and will be removed from pandas in a future version. Use pandas.concat instead.\n",
      "  z_p = z_p.append(pre)\n",
      "C:\\Users\\hp\\anaconda3\\lib\\site-packages\\sklearn\\base.py:450: UserWarning: X does not have valid feature names, but StandardScaler was fitted with feature names\n",
      "  warnings.warn(\n",
      "C:\\Users\\hp\\AppData\\Local\\Temp\\ipykernel_19188\\224549698.py:303: FutureWarning: The frame.append method is deprecated and will be removed from pandas in a future version. Use pandas.concat instead.\n",
      "  z_p = z_p.append(pre)\n",
      "C:\\Users\\hp\\anaconda3\\lib\\site-packages\\sklearn\\base.py:450: UserWarning: X does not have valid feature names, but StandardScaler was fitted with feature names\n",
      "  warnings.warn(\n",
      "C:\\Users\\hp\\AppData\\Local\\Temp\\ipykernel_19188\\224549698.py:303: FutureWarning: The frame.append method is deprecated and will be removed from pandas in a future version. Use pandas.concat instead.\n",
      "  z_p = z_p.append(pre)\n",
      "C:\\Users\\hp\\anaconda3\\lib\\site-packages\\sklearn\\base.py:450: UserWarning: X does not have valid feature names, but StandardScaler was fitted with feature names\n",
      "  warnings.warn(\n"
     ]
    },
    {
     "name": "stdout",
     "output_type": "stream",
     "text": [
      "1/1 [==============================] - 0s 6ms/step\n",
      "1/1 [==============================] - 0s 8ms/step\n",
      "1/1 [==============================] - 0s 13ms/step\n"
     ]
    },
    {
     "name": "stderr",
     "output_type": "stream",
     "text": [
      "C:\\Users\\hp\\AppData\\Local\\Temp\\ipykernel_19188\\224549698.py:303: FutureWarning: The frame.append method is deprecated and will be removed from pandas in a future version. Use pandas.concat instead.\n",
      "  z_p = z_p.append(pre)\n",
      "C:\\Users\\hp\\anaconda3\\lib\\site-packages\\sklearn\\base.py:450: UserWarning: X does not have valid feature names, but StandardScaler was fitted with feature names\n",
      "  warnings.warn(\n",
      "C:\\Users\\hp\\AppData\\Local\\Temp\\ipykernel_19188\\224549698.py:303: FutureWarning: The frame.append method is deprecated and will be removed from pandas in a future version. Use pandas.concat instead.\n",
      "  z_p = z_p.append(pre)\n",
      "C:\\Users\\hp\\anaconda3\\lib\\site-packages\\sklearn\\base.py:450: UserWarning: X does not have valid feature names, but StandardScaler was fitted with feature names\n",
      "  warnings.warn(\n",
      "C:\\Users\\hp\\AppData\\Local\\Temp\\ipykernel_19188\\224549698.py:303: FutureWarning: The frame.append method is deprecated and will be removed from pandas in a future version. Use pandas.concat instead.\n",
      "  z_p = z_p.append(pre)\n",
      "C:\\Users\\hp\\anaconda3\\lib\\site-packages\\sklearn\\base.py:450: UserWarning: X does not have valid feature names, but StandardScaler was fitted with feature names\n",
      "  warnings.warn(\n"
     ]
    },
    {
     "name": "stdout",
     "output_type": "stream",
     "text": [
      "1/1 [==============================] - 0s 21ms/step\n",
      "1/1 [==============================] - 0s 16ms/step\n",
      "1/1 [==============================] - 0s 16ms/step\n"
     ]
    },
    {
     "name": "stderr",
     "output_type": "stream",
     "text": [
      "C:\\Users\\hp\\AppData\\Local\\Temp\\ipykernel_19188\\224549698.py:303: FutureWarning: The frame.append method is deprecated and will be removed from pandas in a future version. Use pandas.concat instead.\n",
      "  z_p = z_p.append(pre)\n",
      "C:\\Users\\hp\\anaconda3\\lib\\site-packages\\sklearn\\base.py:450: UserWarning: X does not have valid feature names, but StandardScaler was fitted with feature names\n",
      "  warnings.warn(\n",
      "C:\\Users\\hp\\AppData\\Local\\Temp\\ipykernel_19188\\224549698.py:303: FutureWarning: The frame.append method is deprecated and will be removed from pandas in a future version. Use pandas.concat instead.\n",
      "  z_p = z_p.append(pre)\n",
      "C:\\Users\\hp\\anaconda3\\lib\\site-packages\\sklearn\\base.py:450: UserWarning: X does not have valid feature names, but StandardScaler was fitted with feature names\n",
      "  warnings.warn(\n",
      "C:\\Users\\hp\\AppData\\Local\\Temp\\ipykernel_19188\\224549698.py:303: FutureWarning: The frame.append method is deprecated and will be removed from pandas in a future version. Use pandas.concat instead.\n",
      "  z_p = z_p.append(pre)\n",
      "C:\\Users\\hp\\anaconda3\\lib\\site-packages\\sklearn\\base.py:450: UserWarning: X does not have valid feature names, but StandardScaler was fitted with feature names\n",
      "  warnings.warn(\n"
     ]
    },
    {
     "name": "stdout",
     "output_type": "stream",
     "text": [
      "1/1 [==============================] - 0s 16ms/step\n",
      "1/1 [==============================] - 0s 32ms/step\n",
      "1/1 [==============================] - 0s 12ms/step\n"
     ]
    },
    {
     "name": "stderr",
     "output_type": "stream",
     "text": [
      "C:\\Users\\hp\\AppData\\Local\\Temp\\ipykernel_19188\\224549698.py:303: FutureWarning: The frame.append method is deprecated and will be removed from pandas in a future version. Use pandas.concat instead.\n",
      "  z_p = z_p.append(pre)\n",
      "C:\\Users\\hp\\anaconda3\\lib\\site-packages\\sklearn\\base.py:450: UserWarning: X does not have valid feature names, but StandardScaler was fitted with feature names\n",
      "  warnings.warn(\n",
      "C:\\Users\\hp\\AppData\\Local\\Temp\\ipykernel_19188\\224549698.py:303: FutureWarning: The frame.append method is deprecated and will be removed from pandas in a future version. Use pandas.concat instead.\n",
      "  z_p = z_p.append(pre)\n",
      "C:\\Users\\hp\\anaconda3\\lib\\site-packages\\sklearn\\base.py:450: UserWarning: X does not have valid feature names, but StandardScaler was fitted with feature names\n",
      "  warnings.warn(\n"
     ]
    },
    {
     "name": "stdout",
     "output_type": "stream",
     "text": [
      "1/1 [==============================] - 0s 12ms/step\n",
      "1/1 [==============================] - 0s 5ms/step\n"
     ]
    },
    {
     "name": "stderr",
     "output_type": "stream",
     "text": [
      "C:\\Users\\hp\\AppData\\Local\\Temp\\ipykernel_19188\\224549698.py:303: FutureWarning: The frame.append method is deprecated and will be removed from pandas in a future version. Use pandas.concat instead.\n",
      "  z_p = z_p.append(pre)\n",
      "C:\\Users\\hp\\anaconda3\\lib\\site-packages\\sklearn\\base.py:450: UserWarning: X does not have valid feature names, but StandardScaler was fitted with feature names\n",
      "  warnings.warn(\n",
      "C:\\Users\\hp\\AppData\\Local\\Temp\\ipykernel_19188\\224549698.py:303: FutureWarning: The frame.append method is deprecated and will be removed from pandas in a future version. Use pandas.concat instead.\n",
      "  z_p = z_p.append(pre)\n",
      "C:\\Users\\hp\\anaconda3\\lib\\site-packages\\sklearn\\base.py:450: UserWarning: X does not have valid feature names, but StandardScaler was fitted with feature names\n",
      "  warnings.warn(\n",
      "C:\\Users\\hp\\AppData\\Local\\Temp\\ipykernel_19188\\224549698.py:303: FutureWarning: The frame.append method is deprecated and will be removed from pandas in a future version. Use pandas.concat instead.\n",
      "  z_p = z_p.append(pre)\n"
     ]
    },
    {
     "data": {
      "image/png": "[encoded data removed]",
      "text/plain": [
       "<Figure size 580x432 with 1 Axes>"
      ]
     },
     "metadata": {},
     "output_type": "display_data"
    },
    {
     "data": {
      "image/png": "[encoded data removed]",
      "text/plain": [
       "<Figure size 580x432 with 1 Axes>"
      ]
     },
     "metadata": {},
     "output_type": "display_data"
    },
    {
     "data": {
      "image/png": "[encoded data removed]",
      "text/plain": [
       "<Figure size 580x432 with 1 Axes>"
      ]
     },
     "metadata": {},
     "output_type": "display_data"
    },
    {
     "data": {
      "image/png": "[encoded data removed]",
      "text/plain": [
       "<Figure size 580x432 with 1 Axes>"
      ]
     },
     "metadata": {},
     "output_type": "display_data"
    }
   ],
   "source": [
    "import tkinter as tk\n",
    "from tkinter import ttk, filedialog, messagebox\n",
    "import pandas as pd\n",
    "import datetime as dt\n",
    "from time import strftime\n",
    "from sklearn.model_selection import train_test_split\n",
    "from sklearn.preprocessing import MinMaxScaler, StandardScaler\n",
    "from tensorflow.keras.models import Sequential\n",
    "from tensorflow.keras.layers import Dense\n",
    "import matplotlib.pyplot as plt\n",
    "from matplotlib.backends.backend_tkagg import FigureCanvasTkAgg\n",
    "from PIL import Image, ImageTk\n",
    "from tkinter import Label  # Import Label separately\n",
    "from sklearn.metrics import mean_absolute_error, mean_squared_error, r2_score\n",
    "from matplotlib.backends.backend_tkagg import FigureCanvasTkAgg\n",
    "from tensorflow.keras.models import load_model\n",
    "import seaborn as sns\n",
    "\n",
    "\n",
    "from tkinter import *\n",
    "import tkinter as tk\n",
    "from tkinter import *\n",
    "from PIL import ImageTk, Image\n",
    "from time import strftime\n",
    "import datetime as dt\n",
    "import tkinter as tk\n",
    "from tkinter import filedialog\n",
    "from tkinter.filedialog import askopenfile\n",
    "from PIL import Image, ImageTk\n",
    "from tkinter import filedialog\n",
    "import math \n",
    "import numpy as np\n",
    "import matplotlib.pyplot as plt \n",
    "from matplotlib.backends.backend_tkagg import FigureCanvasTkAgg\n",
    "import os \n",
    "import pandas as pd\n",
    "import random\n",
    "import csv\n",
    "# import xlwt\n",
    "# from xlwt import Workbook\n",
    "import matplotlib.pyplot as plt\n",
    "from tkinter.scrolledtext import ScrolledText\n",
    "\n",
    "# Define global variables\n",
    "model = None\n",
    "X_test = None\n",
    "Y_test = None\n",
    "predictions = None\n",
    "scaler_input = None\n",
    "scaler_output = None\n",
    "predictions = None\n",
    "history = None\n",
    "z_p = None\n",
    "\n",
    "\n",
    "def browse_file():\n",
    "    file_path = filedialog.askopenfilename(filetypes=[(\"CSV files\", \"*.csv\")])\n",
    "    if file_path:\n",
    "        entry_file_path.delete(0, tk.END)\n",
    "        entry_file_path.insert(0, file_path)\n",
    "\n",
    "        \n",
    "\n",
    "\n",
    "\n",
    "# Function to train the model\n",
    "def train_model():\n",
    "    global model, X_test, Y_test, scaler_input, scaler_output\n",
    "    try:\n",
    "\n",
    "        # Load the pre-trained model\n",
    "        model = load_model('trained_model.h5')\n",
    "        # Load the dataset\n",
    "        dataset = pd.read_csv(entry_file_path.get())\n",
    "        \n",
    "        # Selecting columns for input (X) and output (y)\n",
    "        X = dataset[['Velocity', 'solid', 'Time', '    x-coordinate', '    y-coordinate', '    z-coordinate']]\n",
    "        Y = dataset[['water-mean-z-velocity', '    air-mean-vof', '   mean-pressure', '  solid-mean-vof']]\n",
    "\n",
    "        # Scaling the input features using StandardScaler\n",
    "        scaler_input = StandardScaler()\n",
    "        X_scaled = scaler_input.fit_transform(X)\n",
    "\n",
    "        # Scaling the output features using MinMaxScaler\n",
    "        scaler_output = MinMaxScaler()\n",
    "        Y_scaled = scaler_output.fit_transform(Y)\n",
    "\n",
    "        # Splitting the scaled data into training and testing sets\n",
    "        X_train, X_test, Y_train, Y_test = train_test_split(X_scaled, Y_scaled, test_size=0.2, random_state=42)\n",
    "\n",
    "        # Evaluate the model (you may choose to skip this part)\n",
    "        # loss = model.evaluate(X_test, Y_test)\n",
    "\n",
    "        # Make predictions\n",
    "        predictions = model.predict(X_test)\n",
    "\n",
    "        # Inverse scaling for predictions\n",
    "        predictions_unscaled = scaler_output.inverse_transform(predictions)\n",
    "\n",
    "        # Assuming 'y_test' contains the true unscaled values for the test set\n",
    "        # Inverse transform the y_test to compare with unscaled predictions\n",
    "        Y_test_unscaled = scaler_output.inverse_transform(Y_test)\n",
    "\n",
    "        # Setting a custom seaborn style for better aesthetics\n",
    "        sns.set(style='whitegrid', font_scale=1.2)\n",
    "\n",
    "\n",
    "\n",
    "        messagebox.showinfo(\"Model Training\", \"Model trained successfully!\")\n",
    "\n",
    "    except Exception as e:\n",
    "        messagebox.showerror(\"Error\", str(e))\n",
    "        \n",
    "\n",
    "        \n",
    "def predict():\n",
    "    global predictions\n",
    "    try:\n",
    "        if model is None or X_test is None or Y_test is None or scaler_output is None:\n",
    "            raise Exception(\"Model, X_test, Y_test, or scaler_output is not defined. Please train the model first.\")\n",
    "\n",
    "        # Make predictions\n",
    "        predictions = model.predict(X_test)\n",
    "\n",
    "        messagebox.showinfo(\"Prediction\", \"Predictions made successfully!\")\n",
    "\n",
    "    except Exception as e:\n",
    "        messagebox.showerror(\"Error\", str(e))\n",
    "\n",
    "def plot_selected():\n",
    "    selected_plot = combobox_plot_selection.get()\n",
    "    plot_indices = {\n",
    "        \"Liquid velocity\": 0,\n",
    "        \"Gas holdup\": 1,\n",
    "        \"Static pressure\": 2,\n",
    "        \"Solid holdup\": 3\n",
    "    }\n",
    "    \n",
    "    if selected_plot not in plot_indices:\n",
    "        messagebox.showerror(\"Error\", \"Invalid plot selection\")\n",
    "        return\n",
    "\n",
    "    plot_index = plot_indices[selected_plot]\n",
    "\n",
    "    plt.figure(figsize=(8, 6))\n",
    "    plt.scatter(Y_test[:, plot_index], predictions[:, plot_index], alpha=0.7, edgecolor='w', linewidth=0.5)\n",
    "    plt.plot(Y_test[:, plot_index], Y_test[:, plot_index], color='red', linestyle='--', linewidth=2)\n",
    "    plt.title(f'Output {plot_index+1} Parity Plot')\n",
    "    plt.xlabel('True Values')\n",
    "    plt.ylabel('Predicted Values')\n",
    "    plt.grid(True)\n",
    "\n",
    "    # Clear the existing plot if any\n",
    "    for widget in frame_plot.winfo_children():\n",
    "        widget.destroy()\n",
    "\n",
    "    # Create a new Tkinter canvas and embed the new plot\n",
    "    canvas = FigureCanvasTkAgg(plt.gcf(), master=frame_plot)\n",
    "    canvas.draw()\n",
    "    canvas.get_tk_widget().pack(fill=tk.BOTH, expand=True)\n",
    "\n",
    "\n",
    "    \n",
    "def display_evaluation_metrics(parameter_name, Y_test, predictions):\n",
    "    if Y_test is None or predictions is None:\n",
    "        messagebox.showerror(\"Error\", \"Model not trained or predictions not available.\")\n",
    "        return\n",
    "\n",
    "    mae = mean_absolute_error(Y_test, predictions)\n",
    "    mse = mean_squared_error(Y_test, predictions)\n",
    "    r2 = r2_score(Y_test, predictions)\n",
    "\n",
    "    # Create a new frame to hold the metrics display\n",
    "    metrics_frame = ttk.Frame(frame_eval_metrics)\n",
    "    metrics_frame.pack(pady=5)\n",
    "\n",
    "    # Add a label for the parameter name\n",
    "    parameter_label = ttk.Label(metrics_frame, text=parameter_name)\n",
    "    parameter_label.grid(row=0, column=0, padx=5, pady=5)\n",
    "\n",
    "    # Add a text widget to display MAE\n",
    "    mae_text = tk.Text(metrics_frame, height=1, width=15)\n",
    "    mae_text.insert(tk.END, f\"MAE: {mae:.4f}\")\n",
    "    mae_text.grid(row=0, column=1, padx=5, pady=5)\n",
    "\n",
    "    # Add a text widget to display MSE\n",
    "    mse_text = tk.Text(metrics_frame, height=1, width=15)\n",
    "    mse_text.insert(tk.END, f\"MSE: {mse:.4f}\")\n",
    "    mse_text.grid(row=0, column=2, padx=5, pady=5)\n",
    "\n",
    "    # Add a text widget to display R2 Score\n",
    "    r2_text = tk.Text(metrics_frame, height=1, width=15)\n",
    "    r2_text.insert(tk.END, f\"R2 Score: {r2:.4f}\")\n",
    "    r2_text.grid(row=0, column=3, padx=5, pady=5)\n",
    "\n",
    "    # Add a button to copy the values to clipboard\n",
    "    def copy_values():\n",
    "        values = f\"{parameter_name}\\nMAE: {mae:.4f}\\nMSE: {mse:.4f}\\nR2 Score: {r2:.4f}\"\n",
    "        root.clipboard_clear()\n",
    "        root.clipboard_append(values)\n",
    "        root.update()  # Required on Windows\n",
    "        messagebox.showinfo(\"Copied\", \"Values copied to clipboard.\")\n",
    "\n",
    "    copy_button = ttk.Button(metrics_frame, text=\"Copy\", command=copy_values)\n",
    "    copy_button.grid(row=0, column=4, padx=5, pady=5)\n",
    "\n",
    "def display_all_evaluation_metrics():\n",
    "    parameters = [\"Liquid Velocity\", \"Air Holdup\", \"Pressure\", \"Solid Holdup\"]\n",
    "    \n",
    "    for parameter in parameters:\n",
    "        if parameter == \"Liquid Velocity\":\n",
    "            Y_test_parameter = Y_test[:, 0]\n",
    "            predictions_parameter = predictions[:, 0]\n",
    "        elif parameter == \"Air Holdup\":\n",
    "            Y_test_parameter = Y_test[:, 1]\n",
    "            predictions_parameter = predictions[:, 1]\n",
    "        elif parameter == \"Pressure\":\n",
    "            Y_test_parameter = Y_test[:, 2]\n",
    "            predictions_parameter = predictions[:, 2]\n",
    "        elif parameter == \"Solid Holdup\":\n",
    "            Y_test_parameter = Y_test[:, 3]\n",
    "            predictions_parameter = predictions[:, 3]\n",
    "        \n",
    "        display_evaluation_metrics(parameter, Y_test_parameter, predictions_parameter)\n",
    "\n",
    "\n",
    "def plot_data(x, y1, y2, y3, y4, xlabel, ylabels):\n",
    "    fig, axs = plt.subplots(4, 1, figsize=(8, 10))\n",
    "    axs[0].plot(x, y1)\n",
    "    axs[1].plot(x, y2)\n",
    "    axs[2].plot(x, y3)\n",
    "    axs[3].plot(x, y4)\n",
    "    for i in range(4):\n",
    "        axs[i].set_xlabel(xlabel)\n",
    "        axs[i].set_ylabel(ylabels[i])\n",
    "    plt.tight_layout()\n",
    "    plt.grid(True)\n",
    "\n",
    "    # Clear the existing plot if any\n",
    "    for widget in frame_plot.winfo_children():\n",
    "        widget.destroy()\n",
    "\n",
    "    # Create a new Tkinter canvas and embed the new plot\n",
    "    canvas = FigureCanvasTkAgg(plt.gcf(), master=frame_plot)\n",
    "    canvas.draw()\n",
    "    canvas.get_tk_widget().pack(fill=tk.BOTH, expand=True)\n",
    "    \n",
    "def generate_data_axial(model, scaler_input, scaler_output, velocity, solid, time):\n",
    "    z_p = pd.DataFrame()\n",
    "    \n",
    "    for k in np.linspace(0, 0.9, 100):\n",
    "        pre = list(scaler_output.inverse_transform(model.predict(scaler_input.transform([[velocity, solid, time, 0, 0, k]]))))\n",
    "        z_p = z_p.append(pre)\n",
    "\n",
    "    z_p.columns = ['aa', 'bb', 'cc', 'dd']\n",
    "    y1 = z_p['aa']\n",
    "    x1 = z_p['bb']\n",
    "    y3 = z_p['dd']\n",
    "    z1 = z_p['cc']\n",
    "    \n",
    "    return np.linspace(0, 0.9, 100), z1, y1, x1, y3\n",
    "\n",
    "\n",
    "# Function to generate axial prediction data\n",
    "def generate_data_axial(velocity, solid, time):\n",
    "    if scaler_input is None:\n",
    "        messagebox.showerror(\"Error\", \"Scaler input is not initialized. Please train the model first.\")\n",
    "        return\n",
    "\n",
    "    z_p = pd.DataFrame()\n",
    "    for k in np.linspace(0, 0.9, 100):\n",
    "        pre = list(scaler_output.inverse_transform(model.predict(scaler_input.transform([[velocity, solid, time, 0, 0, k]]))))\n",
    "        z_p = z_p.append(pre)\n",
    "\n",
    "    z_p.columns = ['aa', 'bb', 'cc', 'dd']\n",
    "    y1 = z_p['aa']\n",
    "    x1 = z_p['bb']\n",
    "    y3 = z_p['dd']\n",
    "    z1 = z_p['cc']\n",
    "    \n",
    "    return np.linspace(0, 0.9, 100), z1, y1, x1, y3\n",
    "\n",
    "# Function to plot axial prediction on GUI\n",
    "def plot_on_gui_axial():\n",
    "    velocity = float(velocity_axial_entry.get())\n",
    "    solid = float(solid_axial_entry.get())\n",
    "    time = float(time_axial_entry.get())\n",
    "\n",
    "    x, z1, y1, x1, y3 = generate_data_axial(velocity, solid, time)\n",
    "    plot_data(x, z1, y1, x1, y3, 'Axial location (m)', ['Pressure', 'Liquid velocity', 'Air holdup', 'Solid holdup'])\n",
    "\n",
    "# Define scaler_output, model, and z_p if not defined already\n",
    "\n",
    "def generate_data_radial(model, scaler_input, scaler_output, velocity, solid, time, axial, selected_parameter, direction):\n",
    "    z_p = pd.DataFrame()\n",
    "    if direction == 'X':\n",
    "        for i in np.linspace(-0.09972038, 0.09972038, 40):\n",
    "            pre = list(scaler_output.inverse_transform(model.predict(scaler_input.transform([[velocity, solid, time, i, 0, axial]]))))\n",
    "            z_p = z_p.append(pre)\n",
    "    elif direction == 'Y':\n",
    "        for j in np.linspace(-0.09972038, 0.09972038, 40):\n",
    "            pre = list(scaler_output.inverse_transform(model.predict(scaler_input.transform([[velocity, solid, time, 0, j, axial]]))))\n",
    "            z_p = z_p.append(pre)\n",
    "\n",
    "    z_p.columns = ['axial velocity', 'gas holdup', 'pressure', 'solid holdup']\n",
    "    return np.linspace(-0.09972038, 0.09972038, 40), z_p[selected_parameter]\n",
    "\n",
    "def plot_radial(x, y, xlabel, ylabel):\n",
    "    plt.figure(figsize=(8, 6))\n",
    "    plt.plot(x, y)\n",
    "    plt.xlabel(xlabel)\n",
    "    plt.ylabel(ylabel)\n",
    "    plt.grid(True)\n",
    "    plt.tight_layout()\n",
    "    plt.grid(True)\n",
    "\n",
    "    # Clear the existing plot if any\n",
    "    for widget in frame_plot.winfo_children():\n",
    "        widget.destroy()\n",
    "\n",
    "    # Create a new Tkinter canvas and embed the new plot\n",
    "    canvas = FigureCanvasTkAgg(plt.gcf(), master=frame_plot)\n",
    "    canvas.draw()\n",
    "    canvas.get_tk_widget().pack(fill=tk.BOTH, expand=True)\n",
    "    \n",
    "def predict_and_plot_radial():\n",
    "    velocity = float(velocity_radial_var.get())\n",
    "    solid = float(solid_radial_var.get())\n",
    "    time = float(time_radial_var.get())\n",
    "    axial = float(axial_radial_var.get())\n",
    "    selected_parameter = combo_parameter_radial_var.get()\n",
    "    direction = combo_direction_radial_var.get()\n",
    "\n",
    "    x, y = generate_data_radial(model, scaler_input, scaler_output, velocity, solid, time, axial, selected_parameter, direction)\n",
    "    plot_radial(x, y, 'Width of Bed (m)', selected_parameter)\n",
    "\n",
    "    \n",
    "\n",
    "\n",
    "    \n",
    "    \n",
    "\n",
    "\n",
    "\n",
    "\n",
    "\n",
    "# GUI initialization\n",
    "root = tk.Tk()\n",
    "root.title(\"DNN Model GUI\")\n",
    "root.minsize(width=800, height=600)\n",
    "root.maxsize(width=800, height=600)\n",
    "root.configure(bg='honeydew2')\n",
    "\n",
    "# Create notebook (tabbed interface)\n",
    "notebook = ttk.Notebook(root)\n",
    "notebook.pack(fill=tk.BOTH, expand=True)\n",
    "\n",
    "# Training tab\n",
    "frame_train = ttk.Frame(notebook)\n",
    "notebook.add(frame_train, text='Model Training')\n",
    "\n",
    "# # Load and display the logo image\n",
    "# image_logo = Image.open(\"C:/Users/hp/3 phase GUI/logo.png\")\n",
    "# image_logo_resized = image_logo.resize((250, 100))\n",
    "# photo_logo = ImageTk.PhotoImage(image_logo_resized)\n",
    "# label_logo = tk.Label(frame_train, image=photo_logo)\n",
    "# label_logo.place(x=540, y=470)\n",
    "\n",
    "# # Load and display the FBR image\n",
    "# image_fbr = Image.open(\"FBR.jpg\")\n",
    "# image_fbr_resized = image_fbr.resize((30, 200))\n",
    "# photo_fbr = ImageTk.PhotoImage(image_fbr_resized)\n",
    "# label_fbr = Label(frame_train, image=photo_fbr)\n",
    "# label_fbr.place(x=300, y=250)\n",
    "\n",
    "#Time Key\n",
    "def time():\n",
    "    string = strftime('%H:%M:%S %p')\n",
    "    mark.config(text = string)\n",
    "    mark.after(1000, time)\n",
    "\n",
    "mark = tk.Label(frame_train, font=('calibri', 20, 'bold'), pady=1, foreground='purple')\n",
    "mark.place(x=0, y=480)\n",
    "time()\n",
    "\n",
    "# Date Key\n",
    "date = dt.datetime.now()\n",
    "# Create Label to display the Date\n",
    "label = tk.Label(frame_train, text=f\"{date:%A, %B %d, %Y}\", font=('calibri', 20, 'bold'), pady=1, foreground='purple')\n",
    "label.place(x=0, y=510)\n",
    "\n",
    "btn=Button(frame_train, text=\"ML-CFD GUI\", fg='#f00', bg='#fff', font=(\"Helvetica\", 30, 'bold'))\n",
    "btn.place(x=250, y=350)\n",
    "\n",
    "# Train model button\n",
    "btn_train_model = ttk.Button(frame_train, text=\"Load Model\", command=train_model)\n",
    "btn_train_model.grid(row=7, column=1, padx=5, pady=5)\n",
    "\n",
    "# File path entry and browse button\n",
    "lbl_file_path = ttk.Label(frame_train, text=\"Select CSV File:\", font=('calibri', 12, 'bold'), foreground='blue')\n",
    "lbl_file_path.grid(row=0, column=0, padx=5, pady=5, sticky=tk.W)\n",
    "\n",
    "entry_file_path = ttk.Entry(frame_train, width=50, font=('calibri', 10))\n",
    "entry_file_path.grid(row=0, column=1, padx=5, pady=5)\n",
    "\n",
    "btn_browse = ttk.Button(frame_train, text=\"Browse\", command=browse_file)\n",
    "btn_browse.grid(row=0, column=2, padx=5, pady=5)\n",
    "\n",
    "\n",
    "\n",
    "# Predict tab\n",
    "frame_predict = ttk.Frame(notebook)\n",
    "notebook.add(frame_predict, text='Model Prediction')\n",
    "\n",
    "# Predict button\n",
    "btn_predict = ttk.Button(frame_predict, text=\"Predict\", command=predict)\n",
    "btn_predict.pack(padx=10, pady=10)\n",
    "\n",
    "# Plot selection tab\n",
    "frame_plot_selection = ttk.Frame(notebook)\n",
    "notebook.add(frame_plot_selection, text='Plot Selection')\n",
    "\n",
    "# Dropdown for selecting plot\n",
    "combobox_plot_selection = ttk.Combobox(frame_plot_selection, width=30)\n",
    "combobox_plot_selection.pack(pady=10)\n",
    "combobox_plot_selection['values'] = [\"Liquid velocity\", \"Gas holdup\", \"Static pressure\", \"Solid holdup\"]\n",
    "combobox_plot_selection.current(0)\n",
    "\n",
    "# Button to plot selected data\n",
    "btn_plot_selected = ttk.Button(frame_plot_selection, text=\"Plot Selected\", command=plot_selected)\n",
    "btn_plot_selected.pack(pady=10)\n",
    "\n",
    "# Plot tab\n",
    "frame_plot = ttk.Frame(notebook)\n",
    "notebook.add(frame_plot, text='Plot')\n",
    "\n",
    "# Evaluation Metrics tab\n",
    "frame_eval_metrics = ttk.Frame(notebook)\n",
    "notebook.add(frame_eval_metrics, text='Evaluation Metrics')\n",
    "\n",
    "\n",
    "# Button to calculate evaluation metrics for all parameters\n",
    "btn_calculate_all_metrics = ttk.Button(frame_eval_metrics, text=\"Calculate All Metrics\", command=display_all_evaluation_metrics)\n",
    "btn_calculate_all_metrics.pack(pady=10)\n",
    "\n",
    "# Axial Prediction Tab\n",
    "axial_frame = ttk.Frame(notebook)\n",
    "notebook.add(axial_frame, text=\"Axial Prediction\")\n",
    "\n",
    "velocity_axial_label = ttk.Label(axial_frame, text=\"Velocity:\")\n",
    "velocity_axial_label.grid(row=0, column=0, padx=5, pady=5)\n",
    "velocity_axial_entry = ttk.Entry(axial_frame)\n",
    "velocity_axial_entry.grid(row=0, column=1, padx=5, pady=5)\n",
    "\n",
    "solid_axial_label = ttk.Label(axial_frame, text=\"Solid Loading:\")\n",
    "solid_axial_label.grid(row=1, column=0, padx=5, pady=5)\n",
    "solid_axial_entry = ttk.Entry(axial_frame)\n",
    "solid_axial_entry.grid(row=1, column=1, padx=5, pady=5)\n",
    "\n",
    "time_axial_label = ttk.Label(axial_frame, text=\"Time:\")\n",
    "time_axial_label.grid(row=2, column=0, padx=5, pady=5)\n",
    "time_axial_entry = ttk.Entry(axial_frame)\n",
    "time_axial_entry.grid(row=2, column=1, padx=5, pady=5)\n",
    "\n",
    "plot_button_axial = ttk.Button(axial_frame, text=\"Plot Axial\", command=plot_on_gui_axial)\n",
    "plot_button_axial.grid(row=3, column=0, columnspan=2, padx=5, pady=5)\n",
    "\n",
    "# Radial Prediction Tab\n",
    "radial_frame = ttk.Frame(notebook)\n",
    "notebook.add(radial_frame, text=\"Radial Prediction\")\n",
    "\n",
    "\n",
    "\n",
    "# Input fields\n",
    "velocity_radial_label = Label(radial_frame, text=\"Velocity:\")\n",
    "velocity_radial_label.grid(row=0, column=0)\n",
    "velocity_radial_var = StringVar()\n",
    "velocity_radial_entry = Entry(radial_frame, textvariable=velocity_radial_var)\n",
    "velocity_radial_entry.grid(row=0, column=1)\n",
    "\n",
    "solid_radial_label = Label(radial_frame, text=\"Solid:\")\n",
    "solid_radial_label.grid(row=1, column=0)\n",
    "solid_radial_var = StringVar()\n",
    "solid_radial_entry = Entry(radial_frame, textvariable=solid_radial_var)\n",
    "solid_radial_entry.grid(row=1, column=1)\n",
    "\n",
    "time_radial_label = Label(radial_frame, text=\"Time:\")\n",
    "time_radial_label.grid(row=2, column=0)\n",
    "time_radial_var = StringVar()\n",
    "time_radial_entry = Entry(radial_frame, textvariable=time_radial_var)\n",
    "time_radial_entry.grid(row=2, column=1)\n",
    "\n",
    "axial_radial_label = Label(radial_frame, text=\"Axial:\")\n",
    "axial_radial_label.grid(row=3, column=0)\n",
    "axial_radial_var = StringVar()\n",
    "axial_radial_entry = Entry(radial_frame, textvariable=axial_radial_var)\n",
    "axial_radial_entry.grid(row=3, column=1)\n",
    "\n",
    "# Dropdown for direction\n",
    "direction_radial_label = Label(radial_frame, text=\"Direction:\")\n",
    "direction_radial_label.grid(row=4, column=0)\n",
    "combo_direction_radial_var = StringVar()\n",
    "combo_direction_radial_var.set(\"X\")  # Default direction\n",
    "direction_radial_dropdown = OptionMenu(radial_frame, combo_direction_radial_var, 'X', 'Y')\n",
    "direction_radial_dropdown.grid(row=4, column=1)\n",
    "\n",
    "# Dropdown for hydrodynamic parameter\n",
    "parameter_radial_label = Label(radial_frame, text=\"Hydrodynamic Parameter:\")\n",
    "parameter_radial_label.grid(row=5, column=0)\n",
    "combo_parameter_radial_var = StringVar()\n",
    "combo_parameter_radial_var.set('pressure')  # Default parameter\n",
    "parameters_radial = [\"axial velocity\", \"gas holdup\", \"pressure\", \"solid holdup\"]\n",
    "parameter_radial_dropdown = OptionMenu(radial_frame, combo_parameter_radial_var, *parameters_radial)\n",
    "parameter_radial_dropdown.grid(row=5, column=1)\n",
    "\n",
    "# Plot button\n",
    "plot_button_radial = Button(radial_frame, text=\"Plot\", command=predict_and_plot_radial)\n",
    "plot_button_radial.grid(row=6, column=0, columnspan=2)\n",
    "\n",
    "\n",
    "\n",
    "if __name__ == \"__main__\":\n",
    "    root = tk.Tk()\n",
    "    notebook = ttk.Notebook(root)\n",
    "    notebook.pack(fill=tk.BOTH, expand=True)\n",
    "\n",
    "    frame_train = ttk.Frame(notebook)\n",
    "    notebook.add(frame_train, text='Model Training')\n",
    "\n",
    "    \n",
    "    frame_predict = ttk.Frame(notebook)\n",
    "    notebook.add(frame_predict, text='Model Prediction')\n",
    "\n",
    "    frame_plot_selection = ttk.Frame(notebook)\n",
    "    notebook.add(frame_plot_selection, text='Plot Selection')\n",
    "\n",
    "    frame_plot = ttk.Frame(notebook)\n",
    "    notebook.add(frame_plot, text='Plot')\n",
    "\n",
    "    frame_eval_metrics = ttk.Frame(notebook)\n",
    "    notebook.add(frame_eval_metrics, text='Evaluation Metrics')\n",
    "\n",
    "    root.mainloop()\n",
    "\n",
    "\n",
    "\n",
    "\n"
   ]
  },
  {
   "cell_type": "code",
   "execution_count": null,
   "id": "2f557c5d",
   "metadata": {},
   "outputs": [],
   "source": []
  }
 ],
 "metadata": {
  "kernelspec": {
   "display_name": "Python 3 (ipykernel)",
   "language": "python",
   "name": "python3"
  },
  "language_info": {
   "codemirror_mode": {
    "name": "ipython",
    "version": 3
   },
   "file_extension": ".py",
   "mimetype": "text/x-python",
   "name": "python",
   "nbconvert_exporter": "python",
   "pygments_lexer": "ipython3",
   "version": "3.9.12"
  }
 },
 "nbformat": 4,
 "nbformat_minor": 5
}
